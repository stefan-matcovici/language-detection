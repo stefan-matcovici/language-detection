{
  "nbformat": 4,
  "nbformat_minor": 0,
  "metadata": {
    "language_info": {
      "codemirror_mode": {
        "name": "ipython",
        "version": 3
      },
      "file_extension": ".py",
      "mimetype": "text/x-python",
      "name": "python",
      "nbconvert_exporter": "python",
      "pygments_lexer": "ipython3",
      "version": "3.7.10"
    },
    "orig_nbformat": 2,
    "kernelspec": {
      "name": "python3710jvsc74a57bd07cec81db05bb032c480a4394d2b8453a6daf84bc5a6e44507f5f38b80d55eb6f",
      "display_name": "Python 3.7.10 64-bit ('language-detection': conda)"
    },
    "colab": {
      "name": "1.baseline-ngram.ipynb",
      "provenance": []
    }
  },
  "cells": [
    {
      "cell_type": "code",
      "metadata": {
        "id": "7Cd6o1fCJ5FM",
        "outputId": "35318e85-57d5-4b8c-8f74-661e837b9187",
        "colab": {
          "base_uri": "https://localhost:8080/"
        }
      },
      "source": [
        "!git clone https://stefan-matcovici/language-detection.git\n",
        "!pip install -r language-detection/requirements.txt"
      ],
      "execution_count": 12,
      "outputs": [
        {
          "output_type": "stream",
          "text": [
            "fatal: destination path 'language-detection' already exists and is not an empty directory.\n",
            "Already on 'cookiecutter'\n",
            "Your branch is up to date with 'origin/cookiecutter'.\n",
            "Requirement already satisfied: flake8 in /usr/local/lib/python3.7/dist-packages (from -r language-detection/requirements.txt (line 1)) (3.9.0)\n",
            "Requirement already satisfied: langid in /usr/local/lib/python3.7/dist-packages (from -r language-detection/requirements.txt (line 3)) (1.1.6)\n",
            "Requirement already satisfied: langdetect in /usr/local/lib/python3.7/dist-packages (from -r language-detection/requirements.txt (line 4)) (1.0.8)\n",
            "Requirement already satisfied: pycountry in /usr/local/lib/python3.7/dist-packages (from -r language-detection/requirements.txt (line 5)) (20.7.3)\n",
            "Requirement already satisfied: iso-639 in /usr/local/lib/python3.7/dist-packages (from -r language-detection/requirements.txt (line 6)) (0.4.5)\n",
            "Requirement already satisfied: pycld2 in /usr/local/lib/python3.7/dist-packages (from -r language-detection/requirements.txt (line 7)) (0.41)\n",
            "Requirement already satisfied: tqdm in /usr/local/lib/python3.7/dist-packages (from -r language-detection/requirements.txt (line 8)) (4.41.1)\n",
            "Requirement already satisfied: sklearn in /usr/local/lib/python3.7/dist-packages (from -r language-detection/requirements.txt (line 10)) (0.0)\n",
            "Requirement already satisfied: pyflakes<2.4.0,>=2.3.0 in /usr/local/lib/python3.7/dist-packages (from flake8->-r language-detection/requirements.txt (line 1)) (2.3.1)\n",
            "Requirement already satisfied: importlib-metadata; python_version < \"3.8\" in /usr/local/lib/python3.7/dist-packages (from flake8->-r language-detection/requirements.txt (line 1)) (3.8.1)\n",
            "Requirement already satisfied: pycodestyle<2.8.0,>=2.7.0 in /usr/local/lib/python3.7/dist-packages (from flake8->-r language-detection/requirements.txt (line 1)) (2.7.0)\n",
            "Requirement already satisfied: mccabe<0.7.0,>=0.6.0 in /usr/local/lib/python3.7/dist-packages (from flake8->-r language-detection/requirements.txt (line 1)) (0.6.1)\n",
            "Requirement already satisfied: numpy in /usr/local/lib/python3.7/dist-packages (from langid->-r language-detection/requirements.txt (line 3)) (1.19.5)\n",
            "Requirement already satisfied: six in /usr/local/lib/python3.7/dist-packages (from langdetect->-r language-detection/requirements.txt (line 4)) (1.15.0)\n",
            "Requirement already satisfied: scikit-learn in /usr/local/lib/python3.7/dist-packages (from sklearn->-r language-detection/requirements.txt (line 10)) (0.22.2.post1)\n",
            "Requirement already satisfied: typing-extensions>=3.6.4; python_version < \"3.8\" in /usr/local/lib/python3.7/dist-packages (from importlib-metadata; python_version < \"3.8\"->flake8->-r language-detection/requirements.txt (line 1)) (3.7.4.3)\n",
            "Requirement already satisfied: zipp>=0.5 in /usr/local/lib/python3.7/dist-packages (from importlib-metadata; python_version < \"3.8\"->flake8->-r language-detection/requirements.txt (line 1)) (3.4.1)\n",
            "Requirement already satisfied: joblib>=0.11 in /usr/local/lib/python3.7/dist-packages (from scikit-learn->sklearn->-r language-detection/requirements.txt (line 10)) (1.0.1)\n",
            "Requirement already satisfied: scipy>=0.17.0 in /usr/local/lib/python3.7/dist-packages (from scikit-learn->sklearn->-r language-detection/requirements.txt (line 10)) (1.4.1)\n"
          ],
          "name": "stdout"
        }
      ]
    },
    {
      "cell_type": "code",
      "metadata": {
        "id": "1-s5VIBEKmJj"
      },
      "source": [
        "import sys\n",
        "sys.path.append('/content/language-detection/src')"
      ],
      "execution_count": 13,
      "outputs": []
    },
    {
      "cell_type": "code",
      "metadata": {
        "id": "HP8r1PE7KoYc",
        "outputId": "38e601e2-b7e0-4aaa-c3b8-4eee465a3dec",
        "colab": {
          "base_uri": "https://localhost:8080/"
        }
      },
      "source": [
        "%load_ext autoreload\n",
        "%autoreload 2"
      ],
      "execution_count": 14,
      "outputs": [
        {
          "output_type": "stream",
          "text": [
            "The autoreload extension is already loaded. To reload it, use:\n",
            "  %reload_ext autoreload\n"
          ],
          "name": "stdout"
        }
      ]
    },
    {
      "cell_type": "code",
      "metadata": {
        "id": "Xz55fX4wGu0U"
      },
      "source": [
        "from sklearn.feature_extraction.text import CountVectorizer, TfidfTransformer\n",
        "from data.willi2018 import Wili2018Dataset\n",
        "from sklearn.preprocessing import LabelEncoder\n",
        "from sklearn.pipeline import Pipeline\n",
        "from sklearn.naive_bayes import MultinomialNB\n",
        "from sklearn.model_selection import GridSearchCV\n",
        "from sklearn.metrics import recall_score, precision_score, f1_score, accuracy_score, plot_confusion_matrix, classification_report\n",
        "from sklearn.metrics import classification_report, confusion_matrix\n",
        "from pprint import pprint\n",
        "\n",
        "from tqdm.auto import tqdm\n",
        "from time import time\n",
        "import numpy as np\n",
        "\n",
        "from matplotlib import pyplot as plt\n",
        "import seaborn as sns"
      ],
      "execution_count": 37,
      "outputs": []
    },
    {
      "cell_type": "markdown",
      "metadata": {
        "id": "PphHRpfmKvkL"
      },
      "source": [
        "###Dataset download and loading"
      ]
    },
    {
      "cell_type": "code",
      "metadata": {
        "id": "aektVouCK-NF"
      },
      "source": [
        "# !cd language-detection; chmod u+x scripts/download_wili2018.sh; ./scripts/download_wili2018.sh"
      ],
      "execution_count": 16,
      "outputs": []
    },
    {
      "cell_type": "code",
      "metadata": {
        "id": "Y8ZI05BmGu0k"
      },
      "source": [
        "target_languages = ['eng', 'rus', 'fra', 'spa', 'deu', 'ita', 'nld', 'jpn', 'ara', 'hin', 'urd', 'por', 'fas', 'kor', 'est', 'ron', 'swe', 'tha']\n",
        "wili2018 = Wili2018Dataset(target_languages)\n",
        "X_train, Y_train, X_test, Y_test = wili2018.get_data()"
      ],
      "execution_count": 17,
      "outputs": []
    },
    {
      "cell_type": "code",
      "metadata": {
        "id": "NDAWaFLcLSe_"
      },
      "source": [
        "le = LabelEncoder()\n",
        "y_encoded = le.fit_transform(Y_train)"
      ],
      "execution_count": 18,
      "outputs": []
    },
    {
      "cell_type": "markdown",
      "metadata": {
        "id": "rc_Wo-yeLCMH"
      },
      "source": [
        "###Pipeline definition"
      ]
    },
    {
      "cell_type": "code",
      "metadata": {
        "id": "C33lsyO4Gu0l"
      },
      "source": [
        "pipeline = Pipeline([('vectorizer', CountVectorizer()), \n",
        "                     ('tfidf', TfidfTransformer()), \n",
        "                     ('naive_bayes', MultinomialNB())])"
      ],
      "execution_count": 19,
      "outputs": []
    },
    {
      "cell_type": "markdown",
      "metadata": {
        "id": "Tcx62Rrh-YXM"
      },
      "source": [
        "###Grid Search Parameters"
      ]
    },
    {
      "cell_type": "code",
      "metadata": {
        "id": "YQASqy5EGu0m",
        "outputId": "ea332cb2-9ed5-4b7b-c3fb-5e5bb60c5ba2",
        "colab": {
          "base_uri": "https://localhost:8080/"
        }
      },
      "source": [
        "parameters = {\n",
        "    'vectorizer__max_df': (0.5, 0.75, 1.0),\n",
        "    'vectorizer__max_features': (None, 5000, 10000, 50000),\n",
        "    'vectorizer__analyzer': ('word', 'char', 'char_wb'),\n",
        "    'vectorizer__strip_accents': ('ascii', 'unicode'),\n",
        "    'vectorizer__ngram_range': ((1, 1), (1, 2)),\n",
        "    'tfidf__use_idf': (True,),\n",
        "    'tfidf__norm': ('l1',),\n",
        "}\n",
        "\n",
        "grid_search = GridSearchCV(pipeline, parameters, n_jobs=-1, verbose=3)\n",
        "t0 = time()\n",
        "grid_search.fit(X_train, Y_train)\n",
        "print(\"done in %0.3fs\" % (time() - t0))"
      ],
      "execution_count": 23,
      "outputs": [
        {
          "output_type": "stream",
          "text": [
            "Performing grid search...\n",
            "pipeline: ['vectorizer', 'tfidf', 'naive_bayes']\n",
            "parameters:\n",
            "{'tfidf__norm': ('l1',),\n",
            " 'tfidf__use_idf': (True,),\n",
            " 'vectorizer__analyzer': ('word', 'char', 'char_wb'),\n",
            " 'vectorizer__max_df': (0.5, 0.75, 1.0),\n",
            " 'vectorizer__max_features': (None, 5000, 10000, 50000),\n",
            " 'vectorizer__ngram_range': ((1, 1), (1, 2)),\n",
            " 'vectorizer__strip_accents': ('ascii', 'unicode')}\n",
            "Fitting 5 folds for each of 144 candidates, totalling 720 fits\n"
          ],
          "name": "stdout"
        },
        {
          "output_type": "stream",
          "text": [
            "[Parallel(n_jobs=-1)]: Using backend LokyBackend with 2 concurrent workers.\n",
            "[Parallel(n_jobs=-1)]: Done  28 tasks      | elapsed:   53.5s\n",
            "[Parallel(n_jobs=-1)]: Done 124 tasks      | elapsed:  3.7min\n",
            "/usr/local/lib/python3.7/dist-packages/joblib/externals/loky/process_executor.py:691: UserWarning: A worker stopped while some jobs were given to the executor. This can be caused by a too short worker timeout or by a memory leak.\n",
            "  \"timeout or by a memory leak.\", UserWarning\n",
            "[Parallel(n_jobs=-1)]: Done 284 tasks      | elapsed:  8.5min\n",
            "[Parallel(n_jobs=-1)]: Done 508 tasks      | elapsed: 16.0min\n",
            "[Parallel(n_jobs=-1)]: Done 720 out of 720 | elapsed: 26.1min finished\n"
          ],
          "name": "stderr"
        },
        {
          "output_type": "stream",
          "text": [
            "done in 1573.847s\n",
            "\n"
          ],
          "name": "stdout"
        }
      ]
    },
    {
      "cell_type": "code",
      "metadata": {
        "id": "FfZP3TMpJuU7",
        "outputId": "743e2c57-86c8-4597-d4b5-15020b42c9fc",
        "colab": {
          "base_uri": "https://localhost:8080/"
        }
      },
      "source": [
        "%%time\n",
        "y_pred = grid_search.best_estimator_.predict(X_test)"
      ],
      "execution_count": 39,
      "outputs": [
        {
          "output_type": "stream",
          "text": [
            "CPU times: user 5.95 s, sys: 15.1 ms, total: 5.97 s\n",
            "Wall time: 5.97 s\n"
          ],
          "name": "stdout"
        }
      ]
    },
    {
      "cell_type": "code",
      "metadata": {
        "id": "Y-2ehKfaGu0n",
        "outputId": "3f4f7079-5255-49bc-b6c3-d4768e5533f2",
        "colab": {
          "base_uri": "https://localhost:8080/"
        }
      },
      "source": [
        "print(\"Best score: %0.3f\" % grid_search.best_score_)\n",
        "print(\"Best parameters set:\")\n",
        "best_parameters = grid_search.best_estimator_.get_params()\n",
        "for param_name in sorted(parameters.keys()):\n",
        "    print(\"\\t%s: %r\" % (param_name, best_parameters[param_name]))"
      ],
      "execution_count": 24,
      "outputs": [
        {
          "output_type": "stream",
          "text": [
            "Best score: 0.974\n",
            "Best parameters set:\n",
            "\ttfidf__norm: 'l1'\n",
            "\ttfidf__use_idf: True\n",
            "\tvectorizer__analyzer: 'char_wb'\n",
            "\tvectorizer__max_df: 1.0\n",
            "\tvectorizer__max_features: 5000\n",
            "\tvectorizer__ngram_range: (1, 2)\n",
            "\tvectorizer__strip_accents: 'unicode'\n"
          ],
          "name": "stdout"
        }
      ]
    },
    {
      "cell_type": "markdown",
      "metadata": {
        "id": "P1MnwClN-dKt"
      },
      "source": [
        "###Classification report"
      ]
    },
    {
      "cell_type": "code",
      "metadata": {
        "id": "VvDOsTUTJXMQ",
        "outputId": "00884aca-da8d-42dc-b6fa-a6b096d6594a",
        "colab": {
          "base_uri": "https://localhost:8080/"
        }
      },
      "source": [
        "print(classification_report(Y_test, y_pred, zero_division=0, digits=4))"
      ],
      "execution_count": 31,
      "outputs": [
        {
          "output_type": "stream",
          "text": [
            "              precision    recall  f1-score   support\n",
            "\n",
            "         ara     0.9154    0.9960    0.9540       500\n",
            "         deu     0.9758    0.9680    0.9719       500\n",
            "         eng     0.8471    0.9860    0.9113       500\n",
            "         est     0.9959    0.9600    0.9776       500\n",
            "         fas     1.0000    0.9980    0.9990       500\n",
            "         fra     0.9593    0.9900    0.9744       500\n",
            "         hin     1.0000    0.9780    0.9889       500\n",
            "         ita     0.9642    0.9700    0.9671       500\n",
            "         jpn     0.9899    0.9840    0.9870       500\n",
            "         kor     1.0000    0.9900    0.9950       500\n",
            "         nld     1.0000    0.9700    0.9848       500\n",
            "         por     0.9894    0.9360    0.9620       500\n",
            "         ron     0.9859    0.9760    0.9809       500\n",
            "         rus     0.9901    0.9980    0.9940       500\n",
            "         spa     0.9838    0.9720    0.9779       500\n",
            "         swe     0.9861    0.9960    0.9910       500\n",
            "         tha     1.0000    0.9880    0.9940       500\n",
            "         urd     1.0000    0.8940    0.9440       500\n",
            "\n",
            "    accuracy                         0.9750      9000\n",
            "   macro avg     0.9768    0.9750    0.9753      9000\n",
            "weighted avg     0.9768    0.9750    0.9753      9000\n",
            "\n"
          ],
          "name": "stdout"
        }
      ]
    },
    {
      "cell_type": "markdown",
      "metadata": {
        "id": "xNQSiFnjGu0n"
      },
      "source": [
        "###Confusion matrix"
      ]
    },
    {
      "cell_type": "code",
      "metadata": {
        "id": "ljBWrNPiK7aG",
        "outputId": "f62d5491-9fb4-4b0d-ddba-5f4555ef5970",
        "colab": {
          "base_uri": "https://localhost:8080/",
          "height": 609
        }
      },
      "source": [
        "label_list = sorted(list(set(y_pred)))\n",
        "cm = confusion_matrix(Y_test, y_pred, label_list)\n",
        "\n",
        "plt.figure(figsize = (20, 10))\n",
        "sns.heatmap(cm, annot=True, fmt='d', xticklabels=label_list, yticklabels=label_list)"
      ],
      "execution_count": 38,
      "outputs": [
        {
          "output_type": "execute_result",
          "data": {
            "text/plain": [
              "<matplotlib.axes._subplots.AxesSubplot at 0x7fd262216e10>"
            ]
          },
          "metadata": {
            "tags": []
          },
          "execution_count": 38
        },
        {
          "output_type": "display_data",
          "data": {
            "image/png": "[encoded data removed]",
            "text/plain": [
              "<Figure size 1440x720 with 2 Axes>"
            ]
          },
          "metadata": {
            "tags": [],
            "needs_background": "light"
          }
        }
      ]
    },
    {
      "cell_type": "code",
      "metadata": {
        "id": "0ti230gLJk0x"
      },
      "source": [],
      "execution_count": null,
      "outputs": []
    }
  ]
}