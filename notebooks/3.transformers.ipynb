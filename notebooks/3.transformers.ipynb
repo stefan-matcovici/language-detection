{
  "nbformat": 4,
  "nbformat_minor": 0,
  "metadata": {
    "language_info": {
      "codemirror_mode": {
        "name": "ipython",
        "version": 3
      },
      "file_extension": ".py",
      "mimetype": "text/x-python",
      "name": "python",
      "nbconvert_exporter": "python",
      "pygments_lexer": "ipython3",
      "version": "3.7.10"
    },
    "orig_nbformat": 2,
    "kernelspec": {
      "name": "python3710jvsc74a57bd07cec81db05bb032c480a4394d2b8453a6daf84bc5a6e44507f5f38b80d55eb6f",
      "display_name": "Python 3.7.10 64-bit ('language-detection': conda)"
    },
    "colab": {
      "name": "3.transformers.ipynb",
      "provenance": []
    },
    "accelerator": "GPU"
  },
  "cells": [
    {
      "cell_type": "code",
      "metadata": {
        "id": "Msxa0cb8HFvq",
        "outputId": "455f82ef-92f9-4c81-858c-f837d1dcdf25",
        "colab": {
          "base_uri": "https://localhost:8080/"
        }
      },
      "source": [
        "!git clone https://stefan-matcovici/language-detection.git\n",
        "!pip install -r language-detection/requirements.txt"
      ],
      "execution_count": 4,
      "outputs": [
        {
          "output_type": "stream",
          "text": [
            "Cloning into 'language-detection'...\n",
            "remote: Enumerating objects: 61, done.\u001b[K\n",
            "remote: Counting objects: 100% (61/61), done.\u001b[K\n",
            "remote: Compressing objects: 100% (47/47), done.\u001b[K\n",
            "remote: Total 61 (delta 23), reused 41 (delta 9), pack-reused 0\u001b[K\n",
            "Unpacking objects: 100% (61/61), done.\n",
            "Branch 'cookiecutter' set up to track remote branch 'cookiecutter' from 'origin'.\n",
            "Switched to a new branch 'cookiecutter'\n",
            "Requirement already satisfied: flake8 in /usr/local/lib/python3.7/dist-packages (from -r language-detection/requirements.txt (line 1)) (3.9.0)\n",
            "Requirement already satisfied: langid in /usr/local/lib/python3.7/dist-packages (from -r language-detection/requirements.txt (line 3)) (1.1.6)\n",
            "Requirement already satisfied: langdetect in /usr/local/lib/python3.7/dist-packages (from -r language-detection/requirements.txt (line 4)) (1.0.8)\n",
            "Requirement already satisfied: pycountry in /usr/local/lib/python3.7/dist-packages (from -r language-detection/requirements.txt (line 5)) (20.7.3)\n",
            "Requirement already satisfied: iso-639 in /usr/local/lib/python3.7/dist-packages (from -r language-detection/requirements.txt (line 6)) (0.4.5)\n",
            "Requirement already satisfied: pycld2 in /usr/local/lib/python3.7/dist-packages (from -r language-detection/requirements.txt (line 7)) (0.41)\n",
            "Requirement already satisfied: tqdm in /usr/local/lib/python3.7/dist-packages (from -r language-detection/requirements.txt (line 8)) (4.41.1)\n",
            "Requirement already satisfied: sklearn in /usr/local/lib/python3.7/dist-packages (from -r language-detection/requirements.txt (line 10)) (0.0)\n",
            "Requirement already satisfied: torch in /usr/local/lib/python3.7/dist-packages (from -r language-detection/requirements.txt (line 11)) (1.8.1+cu101)\n",
            "Requirement already satisfied: transformers in /usr/local/lib/python3.7/dist-packages (from -r language-detection/requirements.txt (line 12)) (4.5.0)\n",
            "Requirement already satisfied: mccabe<0.7.0,>=0.6.0 in /usr/local/lib/python3.7/dist-packages (from flake8->-r language-detection/requirements.txt (line 1)) (0.6.1)\n",
            "Requirement already satisfied: pycodestyle<2.8.0,>=2.7.0 in /usr/local/lib/python3.7/dist-packages (from flake8->-r language-detection/requirements.txt (line 1)) (2.7.0)\n",
            "Requirement already satisfied: pyflakes<2.4.0,>=2.3.0 in /usr/local/lib/python3.7/dist-packages (from flake8->-r language-detection/requirements.txt (line 1)) (2.3.1)\n",
            "Requirement already satisfied: importlib-metadata; python_version < \"3.8\" in /usr/local/lib/python3.7/dist-packages (from flake8->-r language-detection/requirements.txt (line 1)) (3.8.1)\n",
            "Requirement already satisfied: numpy in /usr/local/lib/python3.7/dist-packages (from langid->-r language-detection/requirements.txt (line 3)) (1.19.5)\n",
            "Requirement already satisfied: six in /usr/local/lib/python3.7/dist-packages (from langdetect->-r language-detection/requirements.txt (line 4)) (1.15.0)\n",
            "Requirement already satisfied: scikit-learn in /usr/local/lib/python3.7/dist-packages (from sklearn->-r language-detection/requirements.txt (line 10)) (0.22.2.post1)\n",
            "Requirement already satisfied: typing-extensions in /usr/local/lib/python3.7/dist-packages (from torch->-r language-detection/requirements.txt (line 11)) (3.7.4.3)\n",
            "Requirement already satisfied: sacremoses in /usr/local/lib/python3.7/dist-packages (from transformers->-r language-detection/requirements.txt (line 12)) (0.0.44)\n",
            "Requirement already satisfied: requests in /usr/local/lib/python3.7/dist-packages (from transformers->-r language-detection/requirements.txt (line 12)) (2.23.0)\n",
            "Requirement already satisfied: tokenizers<0.11,>=0.10.1 in /usr/local/lib/python3.7/dist-packages (from transformers->-r language-detection/requirements.txt (line 12)) (0.10.2)\n",
            "Requirement already satisfied: regex!=2019.12.17 in /usr/local/lib/python3.7/dist-packages (from transformers->-r language-detection/requirements.txt (line 12)) (2019.12.20)\n",
            "Requirement already satisfied: filelock in /usr/local/lib/python3.7/dist-packages (from transformers->-r language-detection/requirements.txt (line 12)) (3.0.12)\n",
            "Requirement already satisfied: packaging in /usr/local/lib/python3.7/dist-packages (from transformers->-r language-detection/requirements.txt (line 12)) (20.9)\n",
            "Requirement already satisfied: zipp>=0.5 in /usr/local/lib/python3.7/dist-packages (from importlib-metadata; python_version < \"3.8\"->flake8->-r language-detection/requirements.txt (line 1)) (3.4.1)\n",
            "Requirement already satisfied: joblib>=0.11 in /usr/local/lib/python3.7/dist-packages (from scikit-learn->sklearn->-r language-detection/requirements.txt (line 10)) (1.0.1)\n",
            "Requirement already satisfied: scipy>=0.17.0 in /usr/local/lib/python3.7/dist-packages (from scikit-learn->sklearn->-r language-detection/requirements.txt (line 10)) (1.4.1)\n",
            "Requirement already satisfied: click in /usr/local/lib/python3.7/dist-packages (from sacremoses->transformers->-r language-detection/requirements.txt (line 12)) (7.1.2)\n",
            "Requirement already satisfied: chardet<4,>=3.0.2 in /usr/local/lib/python3.7/dist-packages (from requests->transformers->-r language-detection/requirements.txt (line 12)) (3.0.4)\n",
            "Requirement already satisfied: urllib3!=1.25.0,!=1.25.1,<1.26,>=1.21.1 in /usr/local/lib/python3.7/dist-packages (from requests->transformers->-r language-detection/requirements.txt (line 12)) (1.24.3)\n",
            "Requirement already satisfied: idna<3,>=2.5 in /usr/local/lib/python3.7/dist-packages (from requests->transformers->-r language-detection/requirements.txt (line 12)) (2.10)\n",
            "Requirement already satisfied: certifi>=2017.4.17 in /usr/local/lib/python3.7/dist-packages (from requests->transformers->-r language-detection/requirements.txt (line 12)) (2020.12.5)\n",
            "Requirement already satisfied: pyparsing>=2.0.2 in /usr/local/lib/python3.7/dist-packages (from packaging->transformers->-r language-detection/requirements.txt (line 12)) (2.4.7)\n"
          ],
          "name": "stdout"
        }
      ]
    },
    {
      "cell_type": "code",
      "metadata": {
        "id": "WDVf_RvfHVVf",
        "outputId": "81dfeaef-016e-4442-d68a-22c00116f89d",
        "colab": {
          "base_uri": "https://localhost:8080/"
        }
      },
      "source": [
        "!cd language-detection; chmod u+x scripts/download_wili2018.sh; ./scripts/download_wili2018.sh"
      ],
      "execution_count": 5,
      "outputs": [
        {
          "output_type": "stream",
          "text": [
            "--2021-04-11 18:25:54--  https://zenodo.org/record/841984/files/wili-2018.zip\n",
            "Resolving zenodo.org (zenodo.org)... 137.138.76.77\n",
            "Connecting to zenodo.org (zenodo.org)|137.138.76.77|:443... connected.\n",
            "HTTP request sent, awaiting response... 200 OK\n",
            "Length: 62403646 (60M) [application/octet-stream]\n",
            "Saving to: ‘wili-2018.zip’\n",
            "\n",
            "wili-2018.zip       100%[===================>]  59.51M  3.70MB/s    in 11s     \n",
            "\n",
            "2021-04-11 18:26:06 (5.39 MB/s) - ‘wili-2018.zip’ saved [62403646/62403646]\n",
            "\n",
            "Archive:  wili-2018.zip\n",
            "  inflating: ./data/wili-2018/x_train.txt  \n",
            "  inflating: ./data/wili-2018/y_train.txt  \n",
            "  inflating: ./data/wili-2018/x_test.txt  \n",
            "  inflating: ./data/wili-2018/y_test.txt  \n",
            "  inflating: ./data/wili-2018/labels.csv  \n",
            "  inflating: ./data/wili-2018/README.txt  \n",
            "  inflating: ./data/wili-2018/urls.txt  \n"
          ],
          "name": "stdout"
        }
      ]
    },
    {
      "cell_type": "code",
      "metadata": {
        "id": "iJxqnoa9HPKk"
      },
      "source": [
        "import sys\n",
        "sys.path.append('/content/language-detection/src')"
      ],
      "execution_count": 1,
      "outputs": []
    },
    {
      "cell_type": "code",
      "metadata": {
        "id": "UnSfOsY3HRkv"
      },
      "source": [
        "%load_ext autoreload\n",
        "%autoreload 2"
      ],
      "execution_count": 2,
      "outputs": []
    },
    {
      "cell_type": "code",
      "metadata": {
        "id": "h6Ja8H7THi00"
      },
      "source": [
        "import numpy as np\n",
        "from matplotlib import pyplot as plt\n",
        "import seaborn as sns\n",
        "\n",
        "import torch\n",
        "from transformers import Trainer, TrainingArguments, DistilBertTokenizer, DistilBertForSequenceClassification\n",
        "from sklearn.metrics import recall_score, precision_score, f1_score, accuracy_score, plot_confusion_matrix, classification_report\n",
        "from sklearn.metrics import classification_report, confusion_matrix\n",
        "from sklearn.preprocessing import LabelEncoder\n",
        "\n",
        "from data.wili2018_dataset import Wili2018Dataset\n",
        "from data.wili2018_transformer_dataset import Wili2018TransformerDataset"
      ],
      "execution_count": 3,
      "outputs": []
    },
    {
      "cell_type": "markdown",
      "metadata": {
        "id": "inYMsJ0d_QQa"
      },
      "source": [
        "###Data loading"
      ]
    },
    {
      "cell_type": "code",
      "metadata": {
        "id": "40ZY9CwpHZCE"
      },
      "source": [
        "target_languages = ['eng', 'rus', 'fra', 'spa', 'deu', 'ita', 'nld', 'jpn', 'ara', 'hin', 'urd', 'por', 'fas', 'kor', 'est', 'ron', 'swe', 'tha']\n",
        "wili2018 = Wili2018Dataset(target_languages)\n",
        "X_train, Y_train, X_test, Y_test = wili2018.get_data()"
      ],
      "execution_count": 4,
      "outputs": []
    },
    {
      "cell_type": "markdown",
      "metadata": {
        "id": "qE0X6-w6_TR0"
      },
      "source": [
        "###Model and tokenizer loading"
      ]
    },
    {
      "cell_type": "code",
      "metadata": {
        "id": "_BytED-NFoCY",
        "outputId": "6de36ef6-f9c4-491b-91ab-6f54568757a8",
        "colab": {
          "base_uri": "https://localhost:8080/"
        }
      },
      "source": [
        "model_name = 'distilbert-base-multilingual-cased'\n",
        "tokenizer = DistilBertTokenizer.from_pretrained(model_name)\n",
        "model = DistilBertForSequenceClassification.from_pretrained(model_name, num_labels=len(set(Y_train)))\n",
        "\n",
        "train_dataset = Wili2018TransformerDataset(tokenizer, X_train, Y_train)\n",
        "test_dataset = Wili2018TransformerDataset(tokenizer, X_test, Y_test)"
      ],
      "execution_count": 5,
      "outputs": [
        {
          "output_type": "stream",
          "text": [
            "Some weights of the model checkpoint at distilbert-base-multilingual-cased were not used when initializing DistilBertForSequenceClassification: ['vocab_transform.weight', 'vocab_transform.bias', 'vocab_layer_norm.weight', 'vocab_layer_norm.bias', 'vocab_projector.weight', 'vocab_projector.bias']\n",
            "- This IS expected if you are initializing DistilBertForSequenceClassification from the checkpoint of a model trained on another task or with another architecture (e.g. initializing a BertForSequenceClassification model from a BertForPreTraining model).\n",
            "- This IS NOT expected if you are initializing DistilBertForSequenceClassification from the checkpoint of a model that you expect to be exactly identical (initializing a BertForSequenceClassification model from a BertForSequenceClassification model).\n",
            "Some weights of DistilBertForSequenceClassification were not initialized from the model checkpoint at distilbert-base-multilingual-cased and are newly initialized: ['pre_classifier.weight', 'pre_classifier.bias', 'classifier.weight', 'classifier.bias']\n",
            "You should probably TRAIN this model on a down-stream task to be able to use it for predictions and inference.\n"
          ],
          "name": "stderr"
        }
      ]
    },
    {
      "cell_type": "markdown",
      "metadata": {
        "id": "TBno5ml1Elej"
      },
      "source": [
        "###Train"
      ]
    },
    {
      "cell_type": "code",
      "metadata": {
        "id": "ZIiRI8hsIUJq",
        "outputId": "46119bc3-6da7-4d0a-8018-77c1c69f968c",
        "colab": {
          "base_uri": "https://localhost:8080/",
          "height": 1000
        }
      },
      "source": [
        "training_args = TrainingArguments(\n",
        "    output_dir=f'/content/language-detection/models/{model_name}',\n",
        "    num_train_epochs=3, \n",
        "    per_device_train_batch_size=32,\n",
        "    per_device_eval_batch_size=32,\n",
        "    warmup_steps=50,   \n",
        "    weight_decay=0.01,    \n",
        "    logging_dir='./logs',    \n",
        "    logging_steps=25,\n",
        "    save_steps=200\n",
        ")\n",
        "\n",
        "trainer = Trainer(\n",
        "    model=model,\n",
        "    args=training_args,\n",
        "    train_dataset=train_dataset,\n",
        "    eval_dataset=test_dataset,\n",
        ")\n",
        "\n",
        "trainer.train()"
      ],
      "execution_count": 7,
      "outputs": [
        {
          "output_type": "display_data",
          "data": {
            "text/html": [
              "\n",
              "    <div>\n",
              "        <style>\n",
              "            /* Turns off some styling */\n",
              "            progress {\n",
              "                /* gets rid of default border in Firefox and Opera. */\n",
              "                border: none;\n",
              "                /* Needs to be in here for Safari polyfill so background images work as expected. */\n",
              "                background-size: auto;\n",
              "            }\n",
              "        </style>\n",
              "      \n",
              "      <progress value='846' max='846' style='width:300px; height:20px; vertical-align: middle;'></progress>\n",
              "      [846/846 12:57, Epoch 3/3]\n",
              "    </div>\n",
              "    <table border=\"1\" class=\"dataframe\">\n",
              "  <thead>\n",
              "    <tr style=\"text-align: left;\">\n",
              "      <th>Step</th>\n",
              "      <th>Training Loss</th>\n",
              "    </tr>\n",
              "  </thead>\n",
              "  <tbody>\n",
              "    <tr>\n",
              "      <td>25</td>\n",
              "      <td>2.850200</td>\n",
              "    </tr>\n",
              "    <tr>\n",
              "      <td>50</td>\n",
              "      <td>2.076100</td>\n",
              "    </tr>\n",
              "    <tr>\n",
              "      <td>75</td>\n",
              "      <td>0.538200</td>\n",
              "    </tr>\n",
              "    <tr>\n",
              "      <td>100</td>\n",
              "      <td>0.189600</td>\n",
              "    </tr>\n",
              "    <tr>\n",
              "      <td>125</td>\n",
              "      <td>0.100000</td>\n",
              "    </tr>\n",
              "    <tr>\n",
              "      <td>150</td>\n",
              "      <td>0.085800</td>\n",
              "    </tr>\n",
              "    <tr>\n",
              "      <td>175</td>\n",
              "      <td>0.055400</td>\n",
              "    </tr>\n",
              "    <tr>\n",
              "      <td>200</td>\n",
              "      <td>0.065400</td>\n",
              "    </tr>\n",
              "    <tr>\n",
              "      <td>225</td>\n",
              "      <td>0.083300</td>\n",
              "    </tr>\n",
              "    <tr>\n",
              "      <td>250</td>\n",
              "      <td>0.024600</td>\n",
              "    </tr>\n",
              "    <tr>\n",
              "      <td>275</td>\n",
              "      <td>0.051700</td>\n",
              "    </tr>\n",
              "    <tr>\n",
              "      <td>300</td>\n",
              "      <td>0.038000</td>\n",
              "    </tr>\n",
              "    <tr>\n",
              "      <td>325</td>\n",
              "      <td>0.029300</td>\n",
              "    </tr>\n",
              "    <tr>\n",
              "      <td>350</td>\n",
              "      <td>0.016800</td>\n",
              "    </tr>\n",
              "    <tr>\n",
              "      <td>375</td>\n",
              "      <td>0.028800</td>\n",
              "    </tr>\n",
              "    <tr>\n",
              "      <td>400</td>\n",
              "      <td>0.040300</td>\n",
              "    </tr>\n",
              "    <tr>\n",
              "      <td>425</td>\n",
              "      <td>0.057300</td>\n",
              "    </tr>\n",
              "    <tr>\n",
              "      <td>450</td>\n",
              "      <td>0.047100</td>\n",
              "    </tr>\n",
              "    <tr>\n",
              "      <td>475</td>\n",
              "      <td>0.021800</td>\n",
              "    </tr>\n",
              "    <tr>\n",
              "      <td>500</td>\n",
              "      <td>0.023100</td>\n",
              "    </tr>\n",
              "    <tr>\n",
              "      <td>525</td>\n",
              "      <td>0.040300</td>\n",
              "    </tr>\n",
              "    <tr>\n",
              "      <td>550</td>\n",
              "      <td>0.023700</td>\n",
              "    </tr>\n",
              "    <tr>\n",
              "      <td>575</td>\n",
              "      <td>0.023400</td>\n",
              "    </tr>\n",
              "    <tr>\n",
              "      <td>600</td>\n",
              "      <td>0.006300</td>\n",
              "    </tr>\n",
              "    <tr>\n",
              "      <td>625</td>\n",
              "      <td>0.008800</td>\n",
              "    </tr>\n",
              "    <tr>\n",
              "      <td>650</td>\n",
              "      <td>0.018600</td>\n",
              "    </tr>\n",
              "    <tr>\n",
              "      <td>675</td>\n",
              "      <td>0.020700</td>\n",
              "    </tr>\n",
              "    <tr>\n",
              "      <td>700</td>\n",
              "      <td>0.009000</td>\n",
              "    </tr>\n",
              "    <tr>\n",
              "      <td>725</td>\n",
              "      <td>0.022000</td>\n",
              "    </tr>\n",
              "    <tr>\n",
              "      <td>750</td>\n",
              "      <td>0.006800</td>\n",
              "    </tr>\n",
              "    <tr>\n",
              "      <td>775</td>\n",
              "      <td>0.023400</td>\n",
              "    </tr>\n",
              "    <tr>\n",
              "      <td>800</td>\n",
              "      <td>0.013300</td>\n",
              "    </tr>\n",
              "    <tr>\n",
              "      <td>825</td>\n",
              "      <td>0.030600</td>\n",
              "    </tr>\n",
              "  </tbody>\n",
              "</table><p>"
            ],
            "text/plain": [
              "<IPython.core.display.HTML object>"
            ]
          },
          "metadata": {
            "tags": []
          }
        },
        {
          "output_type": "execute_result",
          "data": {
            "text/plain": [
              "TrainOutput(global_step=846, training_loss=0.19754036593451285, metrics={'train_runtime': 778.0548, 'train_samples_per_second': 1.087, 'total_flos': 1.1225517705216e+16, 'epoch': 3.0, 'init_mem_cpu_alloc_delta': 1629872128, 'init_mem_gpu_alloc_delta': 541632000, 'init_mem_cpu_peaked_delta': 0, 'init_mem_gpu_peaked_delta': 0, 'train_mem_cpu_alloc_delta': 211415040, 'train_mem_gpu_alloc_delta': 1635186176, 'train_mem_cpu_peaked_delta': 173899776, 'train_mem_gpu_peaked_delta': 13072372736})"
            ]
          },
          "metadata": {
            "tags": []
          },
          "execution_count": 7
        }
      ]
    },
    {
      "cell_type": "markdown",
      "metadata": {
        "id": "OB6CpvLUEn_U"
      },
      "source": [
        "###Load best model and predict test set"
      ]
    },
    {
      "cell_type": "code",
      "metadata": {
        "id": "sJKCbtzCIopQ",
        "outputId": "eceb690d-b36d-45b8-e346-b021fac0b55c",
        "colab": {
          "base_uri": "https://localhost:8080/",
          "height": 37
        }
      },
      "source": [
        "model = DistilBertForSequenceClassification.from_pretrained(f'/content/language-detection/models/{model_name}/checkpoint-800')\n",
        "model.to('cuda')\n",
        "\n",
        "trainer.model = model\n",
        "prediction_result = trainer.predict(test_dataset)\n",
        "\n",
        "y_pred = np.argmax(prediction_result.predictions, axis=1).tolist()\n",
        "y_pred = LabelEncoder().fit(Y_train).inverse_transform(y_pred)"
      ],
      "execution_count": 8,
      "outputs": [
        {
          "output_type": "display_data",
          "data": {
            "text/html": [
              "\n",
              "    <div>\n",
              "        <style>\n",
              "            /* Turns off some styling */\n",
              "            progress {\n",
              "                /* gets rid of default border in Firefox and Opera. */\n",
              "                border: none;\n",
              "                /* Needs to be in here for Safari polyfill so background images work as expected. */\n",
              "                background-size: auto;\n",
              "            }\n",
              "        </style>\n",
              "      \n",
              "      <progress value='282' max='282' style='width:300px; height:20px; vertical-align: middle;'></progress>\n",
              "      [282/282 01:15]\n",
              "    </div>\n",
              "    "
            ],
            "text/plain": [
              "<IPython.core.display.HTML object>"
            ]
          },
          "metadata": {
            "tags": []
          }
        }
      ]
    },
    {
      "cell_type": "markdown",
      "metadata": {
        "id": "Ru3Sqp87NB6W"
      },
      "source": [
        "###Classification report"
      ]
    },
    {
      "cell_type": "code",
      "metadata": {
        "id": "eBheSckyNrvN",
        "outputId": "7f84bfbc-8f7c-40b7-8965-ee6dd61ea297",
        "colab": {
          "base_uri": "https://localhost:8080/"
        }
      },
      "source": [
        "print(classification_report(Y_test, y_pred, zero_division=0, digits=4))"
      ],
      "execution_count": 9,
      "outputs": [
        {
          "output_type": "stream",
          "text": [
            "              precision    recall  f1-score   support\n",
            "\n",
            "         ara     1.0000    0.9960    0.9980       500\n",
            "         deu     0.9940    0.9880    0.9910       500\n",
            "         eng     0.9686    0.9860    0.9772       500\n",
            "         est     0.9920    0.9920    0.9920       500\n",
            "         fas     1.0000    0.9980    0.9990       500\n",
            "         fra     0.9960    0.9980    0.9970       500\n",
            "         hin     0.9880    0.9880    0.9880       500\n",
            "         ita     0.9901    0.9980    0.9940       500\n",
            "         jpn     1.0000    0.9960    0.9980       500\n",
            "         kor     0.9980    1.0000    0.9990       500\n",
            "         nld     0.9960    0.9960    0.9960       500\n",
            "         por     0.9940    0.9880    0.9910       500\n",
            "         ron     0.9901    0.9960    0.9930       500\n",
            "         rus     0.9862    1.0000    0.9930       500\n",
            "         spa     0.9980    0.9880    0.9930       500\n",
            "         swe     1.0000    1.0000    1.0000       500\n",
            "         tha     1.0000    0.9860    0.9930       500\n",
            "         urd     1.0000    0.9960    0.9980       500\n",
            "\n",
            "    accuracy                         0.9939      9000\n",
            "   macro avg     0.9939    0.9939    0.9939      9000\n",
            "weighted avg     0.9939    0.9939    0.9939      9000\n",
            "\n"
          ],
          "name": "stdout"
        }
      ]
    },
    {
      "cell_type": "markdown",
      "metadata": {
        "id": "MiKnntK3E-Qt"
      },
      "source": [
        "###Confusion matrix"
      ]
    },
    {
      "cell_type": "code",
      "metadata": {
        "id": "FASrou-kOCgV",
        "outputId": "a46f3f28-ee9a-4d6e-b0be-9b3a4ecd98fa",
        "colab": {
          "base_uri": "https://localhost:8080/",
          "height": 613
        }
      },
      "source": [
        "label_list = sorted(list(set(y_pred)))\n",
        "cm = confusion_matrix(Y_test, y_pred, label_list)\n",
        "\n",
        "plt.figure(figsize = (20, 10))\n",
        "sns.heatmap(cm, annot=True, fmt='d', xticklabels=label_list, yticklabels=label_list)"
      ],
      "execution_count": 10,
      "outputs": [
        {
          "output_type": "execute_result",
          "data": {
            "text/plain": [
              "<matplotlib.axes._subplots.AxesSubplot at 0x7fe29d87c310>"
            ]
          },
          "metadata": {
            "tags": []
          },
          "execution_count": 10
        },
        {
          "output_type": "display_data",
          "data": {
            "image/png": "[encoded data removed]",
            "text/plain": [
              "<Figure size 1440x720 with 2 Axes>"
            ]
          },
          "metadata": {
            "tags": [],
            "needs_background": "light"
          }
        }
      ]
    }
  ]
}