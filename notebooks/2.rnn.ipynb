{
  "nbformat": 4,
  "nbformat_minor": 0,
  "metadata": {
    "language_info": {
      "codemirror_mode": {
        "name": "ipython",
        "version": 3
      },
      "file_extension": ".py",
      "mimetype": "text/x-python",
      "name": "python",
      "nbconvert_exporter": "python",
      "pygments_lexer": "ipython3",
      "version": "3.7.10"
    },
    "orig_nbformat": 2,
    "kernelspec": {
      "name": "python3710jvsc74a57bd07cec81db05bb032c480a4394d2b8453a6daf84bc5a6e44507f5f38b80d55eb6f",
      "display_name": "Python 3.7.10 64-bit ('language-detection': conda)"
    },
    "colab": {
      "name": "2.rnn.ipynb",
      "provenance": []
    },
    "accelerator": "GPU"
  },
  "cells": [
    {
      "cell_type": "code",
      "metadata": {
        "id": "X5BZtT3wNbIP",
        "outputId": "1319abd5-33e5-45e7-e6b3-0dd39d82c1e1",
        "colab": {
          "base_uri": "https://localhost:8080/"
        }
      },
      "source": [
        "!git clone https://stefan-matcovici/language-detection.git\n",
        "!pip install -r language-detection/requirements.txt"
      ],
      "execution_count": 2,
      "outputs": [
        {
          "output_type": "stream",
          "text": [
            "Cloning into 'language-detection'...\n",
            "remote: Enumerating objects: 65, done.\u001b[K\n",
            "remote: Counting objects: 100% (65/65), done.\u001b[K\n",
            "remote: Compressing objects: 100% (51/51), done.\u001b[K\n",
            "remote: Total 65 (delta 25), reused 40 (delta 9), pack-reused 0\u001b[K\n",
            "Unpacking objects: 100% (65/65), done.\n",
            "Branch 'cookiecutter' set up to track remote branch 'cookiecutter' from 'origin'.\n",
            "Switched to a new branch 'cookiecutter'\n",
            "Collecting flake8\n",
            "\u001b[?25l  Downloading https://files.pythonhosted.org/packages/2a/cb/cd92e789442e234b8701bf6e886a55fbc83b7fd6e529b047e20b9cf196e8/flake8-3.9.0-py2.py3-none-any.whl (73kB)\n",
            "\u001b[K     |████████████████████████████████| 81kB 5.6MB/s \n",
            "\u001b[?25hCollecting langid\n",
            "\u001b[?25l  Downloading https://files.pythonhosted.org/packages/ea/4c/0fb7d900d3b0b9c8703be316fbddffecdab23c64e1b46c7a83561d78bd43/langid-1.1.6.tar.gz (1.9MB)\n",
            "\u001b[K     |████████████████████████████████| 1.9MB 14.4MB/s \n",
            "\u001b[?25hCollecting langdetect\n",
            "\u001b[?25l  Downloading https://files.pythonhosted.org/packages/56/a3/8407c1e62d5980188b4acc45ef3d94b933d14a2ebc9ef3505f22cf772570/langdetect-1.0.8.tar.gz (981kB)\n",
            "\u001b[K     |████████████████████████████████| 983kB 36.2MB/s \n",
            "\u001b[?25hCollecting pycountry\n",
            "\u001b[?25l  Downloading https://files.pythonhosted.org/packages/76/73/6f1a412f14f68c273feea29a6ea9b9f1e268177d32e0e69ad6790d306312/pycountry-20.7.3.tar.gz (10.1MB)\n",
            "\u001b[K     |████████████████████████████████| 10.1MB 48.2MB/s \n",
            "\u001b[?25hCollecting iso-639\n",
            "\u001b[?25l  Downloading https://files.pythonhosted.org/packages/5a/8d/27969852f4e664525c3d070e44b2b719bc195f4d18c311c52e57bb93614e/iso-639-0.4.5.tar.gz (167kB)\n",
            "\u001b[K     |████████████████████████████████| 174kB 39.7MB/s \n",
            "\u001b[?25hCollecting pycld2\n",
            "\u001b[?25l  Downloading https://files.pythonhosted.org/packages/21/d2/8b0def84a53c88d0eb27c67b05269fbd16ad68df8c78849e7b5d65e6aec3/pycld2-0.41.tar.gz (41.4MB)\n",
            "\u001b[K     |████████████████████████████████| 41.4MB 71kB/s \n",
            "\u001b[?25hRequirement already satisfied: tqdm in /usr/local/lib/python3.7/dist-packages (from -r language-detection/requirements.txt (line 8)) (4.41.1)\n",
            "Requirement already satisfied: sklearn in /usr/local/lib/python3.7/dist-packages (from -r language-detection/requirements.txt (line 10)) (0.0)\n",
            "Requirement already satisfied: torch in /usr/local/lib/python3.7/dist-packages (from -r language-detection/requirements.txt (line 11)) (1.8.1+cu101)\n",
            "Collecting transformers\n",
            "\u001b[?25l  Downloading https://files.pythonhosted.org/packages/81/91/61d69d58a1af1bd81d9ca9d62c90a6de3ab80d77f27c5df65d9a2c1f5626/transformers-4.5.0-py3-none-any.whl (2.1MB)\n",
            "\u001b[K     |████████████████████████████████| 2.2MB 46.1MB/s \n",
            "\u001b[?25hCollecting pycodestyle<2.8.0,>=2.7.0\n",
            "\u001b[?25l  Downloading https://files.pythonhosted.org/packages/de/cc/227251b1471f129bc35e966bb0fceb005969023926d744139642d847b7ae/pycodestyle-2.7.0-py2.py3-none-any.whl (41kB)\n",
            "\u001b[K     |████████████████████████████████| 51kB 7.1MB/s \n",
            "\u001b[?25hRequirement already satisfied: importlib-metadata; python_version < \"3.8\" in /usr/local/lib/python3.7/dist-packages (from flake8->-r language-detection/requirements.txt (line 1)) (3.8.1)\n",
            "Collecting pyflakes<2.4.0,>=2.3.0\n",
            "\u001b[?25l  Downloading https://files.pythonhosted.org/packages/6c/11/2a745612f1d3cbbd9c69ba14b1b43a35a2f5c3c81cd0124508c52c64307f/pyflakes-2.3.1-py2.py3-none-any.whl (68kB)\n",
            "\u001b[K     |████████████████████████████████| 71kB 9.5MB/s \n",
            "\u001b[?25hCollecting mccabe<0.7.0,>=0.6.0\n",
            "  Downloading https://files.pythonhosted.org/packages/87/89/479dc97e18549e21354893e4ee4ef36db1d237534982482c3681ee6e7b57/mccabe-0.6.1-py2.py3-none-any.whl\n",
            "Requirement already satisfied: numpy in /usr/local/lib/python3.7/dist-packages (from langid->-r language-detection/requirements.txt (line 3)) (1.19.5)\n",
            "Requirement already satisfied: six in /usr/local/lib/python3.7/dist-packages (from langdetect->-r language-detection/requirements.txt (line 4)) (1.15.0)\n",
            "Requirement already satisfied: scikit-learn in /usr/local/lib/python3.7/dist-packages (from sklearn->-r language-detection/requirements.txt (line 10)) (0.22.2.post1)\n",
            "Requirement already satisfied: typing-extensions in /usr/local/lib/python3.7/dist-packages (from torch->-r language-detection/requirements.txt (line 11)) (3.7.4.3)\n",
            "Requirement already satisfied: regex!=2019.12.17 in /usr/local/lib/python3.7/dist-packages (from transformers->-r language-detection/requirements.txt (line 12)) (2019.12.20)\n",
            "Requirement already satisfied: filelock in /usr/local/lib/python3.7/dist-packages (from transformers->-r language-detection/requirements.txt (line 12)) (3.0.12)\n",
            "Collecting sacremoses\n",
            "\u001b[?25l  Downloading https://files.pythonhosted.org/packages/08/cd/342e584ee544d044fb573ae697404ce22ede086c9e87ce5960772084cad0/sacremoses-0.0.44.tar.gz (862kB)\n",
            "\u001b[K     |████████████████████████████████| 870kB 50.6MB/s \n",
            "\u001b[?25hCollecting tokenizers<0.11,>=0.10.1\n",
            "\u001b[?25l  Downloading https://files.pythonhosted.org/packages/ae/04/5b870f26a858552025a62f1649c20d29d2672c02ff3c3fb4c688ca46467a/tokenizers-0.10.2-cp37-cp37m-manylinux2010_x86_64.whl (3.3MB)\n",
            "\u001b[K     |████████████████████████████████| 3.3MB 45.3MB/s \n",
            "\u001b[?25hRequirement already satisfied: packaging in /usr/local/lib/python3.7/dist-packages (from transformers->-r language-detection/requirements.txt (line 12)) (20.9)\n",
            "Requirement already satisfied: requests in /usr/local/lib/python3.7/dist-packages (from transformers->-r language-detection/requirements.txt (line 12)) (2.23.0)\n",
            "Requirement already satisfied: zipp>=0.5 in /usr/local/lib/python3.7/dist-packages (from importlib-metadata; python_version < \"3.8\"->flake8->-r language-detection/requirements.txt (line 1)) (3.4.1)\n",
            "Requirement already satisfied: joblib>=0.11 in /usr/local/lib/python3.7/dist-packages (from scikit-learn->sklearn->-r language-detection/requirements.txt (line 10)) (1.0.1)\n",
            "Requirement already satisfied: scipy>=0.17.0 in /usr/local/lib/python3.7/dist-packages (from scikit-learn->sklearn->-r language-detection/requirements.txt (line 10)) (1.4.1)\n",
            "Requirement already satisfied: click in /usr/local/lib/python3.7/dist-packages (from sacremoses->transformers->-r language-detection/requirements.txt (line 12)) (7.1.2)\n",
            "Requirement already satisfied: pyparsing>=2.0.2 in /usr/local/lib/python3.7/dist-packages (from packaging->transformers->-r language-detection/requirements.txt (line 12)) (2.4.7)\n",
            "Requirement already satisfied: urllib3!=1.25.0,!=1.25.1,<1.26,>=1.21.1 in /usr/local/lib/python3.7/dist-packages (from requests->transformers->-r language-detection/requirements.txt (line 12)) (1.24.3)\n",
            "Requirement already satisfied: certifi>=2017.4.17 in /usr/local/lib/python3.7/dist-packages (from requests->transformers->-r language-detection/requirements.txt (line 12)) (2020.12.5)\n",
            "Requirement already satisfied: chardet<4,>=3.0.2 in /usr/local/lib/python3.7/dist-packages (from requests->transformers->-r language-detection/requirements.txt (line 12)) (3.0.4)\n",
            "Requirement already satisfied: idna<3,>=2.5 in /usr/local/lib/python3.7/dist-packages (from requests->transformers->-r language-detection/requirements.txt (line 12)) (2.10)\n",
            "Building wheels for collected packages: langid, langdetect, pycountry, iso-639, pycld2, sacremoses\n",
            "  Building wheel for langid (setup.py) ... \u001b[?25l\u001b[?25hdone\n",
            "  Created wheel for langid: filename=langid-1.1.6-cp37-none-any.whl size=1941191 sha256=10414a950a9fc1ff71710460841dd640002166d58b661dd761104bfc5068bdd1\n",
            "  Stored in directory: /root/.cache/pip/wheels/29/bc/61/50a93be85d1afe9436c3dc61f38da8ad7b637a38af4824e86e\n",
            "  Building wheel for langdetect (setup.py) ... \u001b[?25l\u001b[?25hdone\n",
            "  Created wheel for langdetect: filename=langdetect-1.0.8-cp37-none-any.whl size=993193 sha256=cda146bb654004752593e458508109625e0e531041bb37f3e8f89f4227ac3eba\n",
            "  Stored in directory: /root/.cache/pip/wheels/8d/b3/aa/6d99de9f3841d7d3d40a60ea06e6d669e8e5012e6c8b947a57\n",
            "  Building wheel for pycountry (setup.py) ... \u001b[?25l\u001b[?25hdone\n",
            "  Created wheel for pycountry: filename=pycountry-20.7.3-py2.py3-none-any.whl size=10746863 sha256=84d7f1cb654ea927a65fbdb6b934d702bf001c685f11d0c02de33f4439ed6dcd\n",
            "  Stored in directory: /root/.cache/pip/wheels/33/4e/a6/be297e6b83567e537bed9df4a93f8590ec01c1acfbcd405348\n",
            "  Building wheel for iso-639 (setup.py) ... \u001b[?25l\u001b[?25hdone\n",
            "  Created wheel for iso-639: filename=iso_639-0.4.5-cp37-none-any.whl size=169063 sha256=77d60ac47ab219f68fc1fe4a7b8231d862f827ed615cc9e6d196b8c7589f50ab\n",
            "  Stored in directory: /root/.cache/pip/wheels/52/60/07/73aed7d23ae9b5729970632922ed5e45b535bcd4b8df77ebe9\n",
            "  Building wheel for pycld2 (setup.py) ... \u001b[?25l\u001b[?25hdone\n",
            "  Created wheel for pycld2: filename=pycld2-0.41-cp37-cp37m-linux_x86_64.whl size=9834227 sha256=02149ec43c211a6f36a5ac54e44d848fb531eb0c97499846841715569a00bce8\n",
            "  Stored in directory: /root/.cache/pip/wheels/c6/8f/e9/08a1a8932a490175bd140206cd86a3dbcfc70498100de11079\n",
            "  Building wheel for sacremoses (setup.py) ... \u001b[?25l\u001b[?25hdone\n",
            "  Created wheel for sacremoses: filename=sacremoses-0.0.44-cp37-none-any.whl size=886084 sha256=f15df6e2f240dc35c3c0907f2d14db5219e05b80649f3bcc86957ff3696e6753\n",
            "  Stored in directory: /root/.cache/pip/wheels/3e/fb/c0/13ab4d63d537658f448366744654323077c4d90069b6512f3c\n",
            "Successfully built langid langdetect pycountry iso-639 pycld2 sacremoses\n",
            "Installing collected packages: pycodestyle, pyflakes, mccabe, flake8, langid, langdetect, pycountry, iso-639, pycld2, sacremoses, tokenizers, transformers\n",
            "Successfully installed flake8-3.9.0 iso-639-0.4.5 langdetect-1.0.8 langid-1.1.6 mccabe-0.6.1 pycld2-0.41 pycodestyle-2.7.0 pycountry-20.7.3 pyflakes-2.3.1 sacremoses-0.0.44 tokenizers-0.10.2 transformers-4.5.0\n"
          ],
          "name": "stdout"
        }
      ]
    },
    {
      "cell_type": "code",
      "metadata": {
        "id": "xQvpLbW9NdGE",
        "outputId": "ab6befa5-a0af-4c56-9b86-92be708a0cbc",
        "colab": {
          "base_uri": "https://localhost:8080/"
        }
      },
      "source": [
        "!cd language-detection; chmod u+x scripts/download_wili2018.sh; ./scripts/download_wili2018.sh"
      ],
      "execution_count": 3,
      "outputs": [
        {
          "output_type": "stream",
          "text": [
            "--2021-04-11 19:30:28--  https://zenodo.org/record/841984/files/wili-2018.zip\n",
            "Resolving zenodo.org (zenodo.org)... 137.138.76.77\n",
            "Connecting to zenodo.org (zenodo.org)|137.138.76.77|:443... connected.\n",
            "HTTP request sent, awaiting response... 200 OK\n",
            "Length: 62403646 (60M) [application/octet-stream]\n",
            "Saving to: ‘wili-2018.zip’\n",
            "\n",
            "wili-2018.zip       100%[===================>]  59.51M  18.2MB/s    in 4.2s    \n",
            "\n",
            "2021-04-11 19:30:34 (14.1 MB/s) - ‘wili-2018.zip’ saved [62403646/62403646]\n",
            "\n",
            "Archive:  wili-2018.zip\n",
            "  inflating: ./data/wili-2018/x_train.txt  \n",
            "  inflating: ./data/wili-2018/y_train.txt  \n",
            "  inflating: ./data/wili-2018/x_test.txt  \n",
            "  inflating: ./data/wili-2018/y_test.txt  \n",
            "  inflating: ./data/wili-2018/labels.csv  \n",
            "  inflating: ./data/wili-2018/README.txt  \n",
            "  inflating: ./data/wili-2018/urls.txt  \n"
          ],
          "name": "stdout"
        }
      ]
    },
    {
      "cell_type": "code",
      "metadata": {
        "id": "yy-MlMUVNgJJ"
      },
      "source": [
        "import sys\n",
        "sys.path.append('/content/language-detection/src')"
      ],
      "execution_count": 4,
      "outputs": []
    },
    {
      "cell_type": "code",
      "metadata": {
        "id": "L5sHebdRNk0t"
      },
      "source": [
        "%load_ext autoreload\n",
        "%autoreload 2"
      ],
      "execution_count": 5,
      "outputs": []
    },
    {
      "cell_type": "code",
      "metadata": {
        "id": "Ml3RcsA_MbY3"
      },
      "source": [
        "import torch\n",
        "import torch.nn as nn\n",
        "import torch.nn.functional as F\n",
        "import torch.optim as optim\n",
        "from torch.utils.data import DataLoader\n",
        "\n",
        "from sklearn.preprocessing import LabelEncoder\n",
        "from sklearn.feature_extraction.text import CountVectorizer\n",
        "from sklearn.metrics import classification_report, confusion_matrix\n",
        "\n",
        "from matplotlib import pyplot as plt\n",
        "import seaborn as sns\n",
        "\n",
        "\n",
        "from data.wili2018_dataset import Wili2018Dataset\n",
        "from data.wili2018_torch_dataset import Wili2018TorchDataset\n",
        "from models.rnn_model import RNNModel"
      ],
      "execution_count": 30,
      "outputs": []
    },
    {
      "cell_type": "markdown",
      "metadata": {
        "id": "kUzP7t7taY_T"
      },
      "source": [
        "###torch setup"
      ]
    },
    {
      "cell_type": "code",
      "metadata": {
        "id": "bRGmyZwKOg8J"
      },
      "source": [
        "torch.manual_seed(27)\n",
        "if torch.cuda.is_available():\n",
        "    device = torch.device(\"cuda\")\n",
        "else:\n",
        "    print(\"WARNING: No GPU available\")\n",
        "    device = torch.device(\"cpu\")"
      ],
      "execution_count": 7,
      "outputs": []
    },
    {
      "cell_type": "markdown",
      "metadata": {
        "id": "NNOgZLOBabs-"
      },
      "source": [
        "###Loading data"
      ]
    },
    {
      "cell_type": "code",
      "metadata": {
        "id": "g0vxaZswNv3Q"
      },
      "source": [
        "target_languages = ['eng', 'rus', 'fra', 'spa', 'deu', 'ita', 'nld', 'jpn', 'ara', 'hin', 'urd', 'por', 'fas', 'kor', 'est', 'ron', 'swe', 'tha']\n",
        "wili2018 = Wili2018Dataset(target_languages)\n",
        "X_train, Y_train, X_test, Y_test = wili2018.get_data()"
      ],
      "execution_count": 8,
      "outputs": []
    },
    {
      "cell_type": "code",
      "metadata": {
        "id": "FxXDL4Q8MbZJ"
      },
      "source": [
        "def to_vocab(list_of_words, to_start=0):\n",
        "    mapping = dict(enumerate(list_of_words, start=to_start))\n",
        "    inverse_mapping = {v: k for k, v in mapping.items()}\n",
        "\n",
        "    return inverse_mapping\n",
        "\n",
        "vectorizer = CountVectorizer(analyzer='word', strip_accents='unicode', max_features=10_000).fit(X_train)\n",
        "words = vectorizer.get_feature_names()\n",
        "processor = vectorizer.build_analyzer()\n",
        "vocab = to_vocab(words, 2)\n",
        "vocab['<PAD>'] = 0\n",
        "vocab['<UNK>'] = 1\n",
        "        \n",
        "target_classes = LabelEncoder().fit(Y_train).classes_\n",
        "target_mapping = to_vocab(target_classes)"
      ],
      "execution_count": 9,
      "outputs": []
    },
    {
      "cell_type": "code",
      "metadata": {
        "id": "a_PQdw4oMbZJ"
      },
      "source": [
        "wili2018_train_dataset = Wili2018TorchDataset(X_train, Y_train, vocab, target_mapping, processor)\n",
        "wili2018_test_dataset = Wili2018TorchDataset(X_test, Y_test, vocab, target_mapping, processor)"
      ],
      "execution_count": 10,
      "outputs": []
    },
    {
      "cell_type": "markdown",
      "metadata": {
        "id": "wAG_W8GGaiEX"
      },
      "source": [
        "###Prepare data for training"
      ]
    },
    {
      "cell_type": "code",
      "metadata": {
        "id": "EBX5xY1HOVlq"
      },
      "source": [
        "def pad_sequence(batch):\n",
        "    sorted_batch = sorted(batch, key=lambda x: len(x[0]), reverse=True)\n",
        "    sequences = [torch.Tensor(x[0]).long() for x in sorted_batch]\n",
        "    sequences_padded = torch.nn.utils.rnn.pad_sequence(sequences, batch_first=True)\n",
        "    lengths = torch.LongTensor([len(x) for x in sequences])\n",
        "    labels = torch.LongTensor(list(map(lambda x: x[1], sorted_batch)))\n",
        "\n",
        "    return sequences_padded, lengths, labels"
      ],
      "execution_count": 11,
      "outputs": []
    },
    {
      "cell_type": "code",
      "metadata": {
        "id": "wUTYC7u2OXUk"
      },
      "source": [
        "train_loader = DataLoader(\n",
        "        dataset=wili2018_train_dataset,\n",
        "        batch_size=64,\n",
        "        shuffle=True,\n",
        "        pin_memory=True,\n",
        "        collate_fn=pad_sequence,\n",
        "        drop_last=True\n",
        "    )\n",
        "\n",
        "test_loader = DataLoader(\n",
        "        dataset=wili2018_test_dataset,\n",
        "        batch_size=64,\n",
        "        shuffle=False,\n",
        "        pin_memory=True,\n",
        "        collate_fn=pad_sequence,\n",
        "        drop_last=True\n",
        "    )"
      ],
      "execution_count": 12,
      "outputs": []
    },
    {
      "cell_type": "markdown",
      "metadata": {
        "id": "siLeq-h9amBl"
      },
      "source": [
        "###Model parameters"
      ]
    },
    {
      "cell_type": "code",
      "metadata": {
        "id": "LZi5-ySNOYwf",
        "outputId": "bee54d20-1e17-4323-cf61-6b60c6ce1ef8",
        "colab": {
          "base_uri": "https://localhost:8080/"
        }
      },
      "source": [
        "ntokens = len(vocab)\n",
        "nclasses = len(target_mapping)\n",
        "rnn_type = 'LSTM'\n",
        "embedding_size = 300\n",
        "hidden_size = 128\n",
        "\n",
        "model = RNNModel(rnn_type, ntokens, embedding_size, hidden_size, nclasses, 1, 0.3).to(device)\n",
        "criterion = nn.CrossEntropyLoss()\n",
        "optimizer = torch.optim.Adam(model.parameters())"
      ],
      "execution_count": 90,
      "outputs": [
        {
          "output_type": "stream",
          "text": [
            "/usr/local/lib/python3.7/dist-packages/torch/nn/modules/rnn.py:63: UserWarning: dropout option adds dropout after all but last recurrent layer, so non-zero dropout expects num_layers greater than 1, but got dropout=0.3 and num_layers=1\n",
            "  \"num_layers={}\".format(dropout, num_layers))\n"
          ],
          "name": "stderr"
        }
      ]
    },
    {
      "cell_type": "code",
      "metadata": {
        "id": "IU6GahbnOuif"
      },
      "source": [
        "def repackage_hidden(h):\n",
        "    \"\"\"Wraps hidden states in new Tensors, to detach them from their history.\"\"\"\n",
        "\n",
        "    if isinstance(h, torch.Tensor):\n",
        "        return h.detach()\n",
        "    else:\n",
        "        return tuple(repackage_hidden(v) for v in h)"
      ],
      "execution_count": 91,
      "outputs": []
    },
    {
      "cell_type": "code",
      "metadata": {
        "id": "nPOeaq10OzZ9"
      },
      "source": [
        "def train(model, loader, criterion, optimizer, epoch, clip_range=0.1, log_interval=50):\n",
        "    model.train()\n",
        "    total_loss = 0.\n",
        "    start_time = time.time()\n",
        "\n",
        "    hidden = model.init_hidden(loader.batch_size)\n",
        "    for batch_idx, (texts, lengths, targets) in enumerate(loader):\n",
        "        model.zero_grad()\n",
        "\n",
        "        hidden = repackage_hidden(hidden)\n",
        "        output, hidden = model(texts.to(device), lengths, hidden)\n",
        "\n",
        "        loss = criterion(output, targets.to(device))\n",
        "        loss.backward()\n",
        "\n",
        "        torch.nn.utils.clip_grad_norm_(model.parameters(), clip_range)\n",
        "        optimizer.step()\n",
        "\n",
        "        total_loss += loss.item()\n",
        "\n",
        "        if batch_idx % log_interval == 0 and batch_idx > 0:\n",
        "            cur_loss = total_loss / log_interval\n",
        "            elapsed = time.time() - start_time\n",
        "            print(f'| epoch {epoch:3d} | {batch_idx:5d}/{(len(X_train) // loader.batch_size):5d} batches | ms/batch {elapsed * 1000 / log_interval:5.2f}'\n",
        "            f'| loss {cur_loss:5.2f} | acc {torch.sum(torch.argmax(output.cpu(), dim=1) == targets) }')\n",
        "            total_loss = 0\n",
        "            start_time = time.time()"
      ],
      "execution_count": 92,
      "outputs": []
    },
    {
      "cell_type": "code",
      "metadata": {
        "id": "_P0_6x8VO2Fq"
      },
      "source": [
        "def evaluate(model, loader):\n",
        "    model.eval()\n",
        "    total_loss = 0.\n",
        "\n",
        "    hidden = model.init_hidden(loader.batch_size)\n",
        "    with torch.no_grad():\n",
        "        for batch_idx, (texts, lengths, targets) in enumerate(loader):\n",
        "            output, hidden = model(texts.to(device), lengths, hidden)\n",
        "            hidden = repackage_hidden(hidden)\n",
        "            total_loss += len(X_test) * criterion(output, targets.to(device)).item()\n",
        "    return total_loss / (len(X_test) - 1)"
      ],
      "execution_count": 93,
      "outputs": []
    },
    {
      "cell_type": "code",
      "metadata": {
        "id": "SI8kcWP8O3oY",
        "outputId": "57b8ac11-1103-435b-9cac-90443886400f",
        "colab": {
          "base_uri": "https://localhost:8080/"
        }
      },
      "source": [
        "import time\n",
        "best_val_loss = None\n",
        "model_path = 'model'\n",
        "\n",
        "try:\n",
        "    for epoch in range(1, 10):\n",
        "        epoch_start_time = time.time()\n",
        "        train(model, train_loader, criterion, optimizer, epoch)\n",
        "        val_loss = evaluate(model, test_loader)\n",
        "        print('-' * 89)\n",
        "        print('| end of epoch {:3d} | time: {:5.2f}s | valid loss {:5.2f} | '.format(epoch, (time.time() - epoch_start_time), val_loss,))\n",
        "        print('-' * 89)\n",
        "\n",
        "        if not best_val_loss or val_loss < best_val_loss:\n",
        "            print(\"Improved val loss so saving\")\n",
        "            with open(model_path, 'wb') as f:\n",
        "                torch.save(model, f)\n",
        "            best_val_loss = val_loss\n",
        "except KeyboardInterrupt:\n",
        "    print('-' * 89)\n",
        "    print('Exiting from training early')"
      ],
      "execution_count": 94,
      "outputs": [
        {
          "output_type": "stream",
          "text": [
            "| epoch   1 |    50/  140 batches | ms/batch 33.27| loss  2.67 | acc 22\n",
            "| epoch   1 |   100/  140 batches | ms/batch 31.21| loss  1.79 | acc 40\n",
            "-----------------------------------------------------------------------------------------\n",
            "| end of epoch   1 | time:  6.92s | valid loss 99.80 | \n",
            "-----------------------------------------------------------------------------------------\n",
            "Improved val loss so saving\n",
            "| epoch   2 |    50/  140 batches | ms/batch 32.95| loss  0.65 | acc 58\n",
            "| epoch   2 |   100/  140 batches | ms/batch 28.79| loss  0.39 | acc 60\n",
            "-----------------------------------------------------------------------------------------\n",
            "| end of epoch   2 | time:  6.80s | valid loss 28.24 | \n",
            "-----------------------------------------------------------------------------------------\n",
            "Improved val loss so saving\n",
            "| epoch   3 |    50/  140 batches | ms/batch 32.13| loss  0.18 | acc 63\n",
            "| epoch   3 |   100/  140 batches | ms/batch 29.88| loss  0.15 | acc 62\n",
            "-----------------------------------------------------------------------------------------\n",
            "| end of epoch   3 | time:  6.76s | valid loss 18.46 | \n",
            "-----------------------------------------------------------------------------------------\n",
            "Improved val loss so saving\n",
            "| epoch   4 |    50/  140 batches | ms/batch 30.58| loss  0.09 | acc 63\n",
            "| epoch   4 |   100/  140 batches | ms/batch 31.69| loss  0.09 | acc 62\n",
            "-----------------------------------------------------------------------------------------\n",
            "| end of epoch   4 | time:  6.78s | valid loss 17.86 | \n",
            "-----------------------------------------------------------------------------------------\n",
            "Improved val loss so saving\n",
            "| epoch   5 |    50/  140 batches | ms/batch 32.80| loss  0.06 | acc 61\n",
            "| epoch   5 |   100/  140 batches | ms/batch 31.80| loss  0.05 | acc 62\n",
            "-----------------------------------------------------------------------------------------\n",
            "| end of epoch   5 | time:  6.93s | valid loss 21.51 | \n",
            "-----------------------------------------------------------------------------------------\n",
            "| epoch   6 |    50/  140 batches | ms/batch 31.47| loss  0.04 | acc 64\n",
            "| epoch   6 |   100/  140 batches | ms/batch 31.24| loss  0.04 | acc 64\n",
            "-----------------------------------------------------------------------------------------\n",
            "| end of epoch   6 | time:  6.87s | valid loss 17.81 | \n",
            "-----------------------------------------------------------------------------------------\n",
            "Improved val loss so saving\n",
            "| epoch   7 |    50/  140 batches | ms/batch 32.01| loss  0.03 | acc 63\n",
            "| epoch   7 |   100/  140 batches | ms/batch 30.59| loss  0.04 | acc 64\n",
            "-----------------------------------------------------------------------------------------\n",
            "| end of epoch   7 | time:  6.86s | valid loss 20.54 | \n",
            "-----------------------------------------------------------------------------------------\n",
            "| epoch   8 |    50/  140 batches | ms/batch 32.01| loss  0.03 | acc 64\n",
            "| epoch   8 |   100/  140 batches | ms/batch 30.61| loss  0.02 | acc 61\n",
            "-----------------------------------------------------------------------------------------\n",
            "| end of epoch   8 | time:  6.76s | valid loss 20.02 | \n",
            "-----------------------------------------------------------------------------------------\n",
            "| epoch   9 |    50/  140 batches | ms/batch 31.09| loss  0.02 | acc 64\n",
            "| epoch   9 |   100/  140 batches | ms/batch 31.07| loss  0.02 | acc 64\n",
            "-----------------------------------------------------------------------------------------\n",
            "| end of epoch   9 | time:  6.85s | valid loss 23.67 | \n",
            "-----------------------------------------------------------------------------------------\n"
          ],
          "name": "stdout"
        }
      ]
    },
    {
      "cell_type": "markdown",
      "metadata": {
        "id": "2cQc1JT4a4SE"
      },
      "source": [
        "###Load the best saved model."
      ]
    },
    {
      "cell_type": "code",
      "metadata": {
        "id": "4M9oKNPqO5Io",
        "outputId": "f64f93d4-ec29-46ee-9672-923afbbedca7",
        "colab": {
          "base_uri": "https://localhost:8080/"
        }
      },
      "source": [
        "with open(model_path, 'rb') as f:\n",
        "    model = torch.load(f)\n",
        "    if rnn_type in ['RNN_TANH', 'RNN_RELU', 'LSTM', 'GRU']:\n",
        "        model.rnn.flatten_parameters()\n",
        "\n",
        "test_loss = evaluate(model, test_loader)\n",
        "print('=' * 89)\n",
        "print('| End of training | test loss {:5.2f} '.format(test_loss))\n",
        "print('=' * 89)"
      ],
      "execution_count": 95,
      "outputs": [
        {
          "output_type": "stream",
          "text": [
            "=========================================================================================\n",
            "| End of training | test loss 17.81 \n",
            "=========================================================================================\n"
          ],
          "name": "stdout"
        }
      ]
    },
    {
      "cell_type": "code",
      "metadata": {
        "id": "UCZMZni6O6bY"
      },
      "source": [
        "y_pred = []\n",
        "y_true = []\n",
        "model.eval()\n",
        "total_loss = 0.\n",
        "\n",
        "hidden = model.init_hidden(test_loader.batch_size)\n",
        "with torch.no_grad():\n",
        "    for batch_idx, (texts, lengths, targets) in enumerate(test_loader):\n",
        "\n",
        "        output, hidden = model(texts.to(device), lengths, hidden)\n",
        "        hidden = repackage_hidden(hidden)\n",
        "        y_pred += torch.argmax(output, dim=1).tolist()\n",
        "        y_true += [x.item() for x in targets]"
      ],
      "execution_count": 96,
      "outputs": []
    },
    {
      "cell_type": "markdown",
      "metadata": {
        "id": "Vk5brCcdbMHo"
      },
      "source": [
        "###Classification report"
      ]
    },
    {
      "cell_type": "code",
      "metadata": {
        "id": "qI2MMI8IO8Fj",
        "outputId": "898c86bf-38d9-40d9-ec4a-97f040be763e",
        "colab": {
          "base_uri": "https://localhost:8080/"
        }
      },
      "source": [
        "print(classification_report(y_true, y_pred, target_names=set(Y_train), digits=4))"
      ],
      "execution_count": 97,
      "outputs": [
        {
          "output_type": "stream",
          "text": [
            "              precision    recall  f1-score   support\n",
            "\n",
            "         rus     0.9980    0.9920    0.9950       499\n",
            "         fra     0.9761    0.9840    0.9800       499\n",
            "         eng     0.9512    0.9740    0.9625       500\n",
            "         hin     0.9756    0.9677    0.9717       496\n",
            "         urd     0.9899    0.9919    0.9909       494\n",
            "         nld     0.9283    0.9919    0.9591       496\n",
            "         jpn     0.9959    0.9760    0.9858       499\n",
            "         swe     0.9919    0.9779    0.9848       498\n",
            "         ita     0.9068    0.9359    0.9211       499\n",
            "         fas     1.0000    0.9699    0.9847       499\n",
            "         ara     0.9703    0.9879    0.9790       496\n",
            "         por     0.9898    0.9719    0.9808       499\n",
            "         kor     0.9515    0.9859    0.9684       497\n",
            "         ron     0.9778    0.9680    0.9729       500\n",
            "         deu     0.9957    0.9315    0.9625       496\n",
            "         tha     0.9940    1.0000    0.9970       499\n",
            "         est     0.9798    0.9738    0.9768       497\n",
            "         spa     1.0000    0.9819    0.9909       497\n",
            "\n",
            "    accuracy                         0.9757      8960\n",
            "   macro avg     0.9762    0.9757    0.9758      8960\n",
            "weighted avg     0.9762    0.9757    0.9758      8960\n",
            "\n"
          ],
          "name": "stdout"
        }
      ]
    },
    {
      "cell_type": "markdown",
      "metadata": {
        "id": "W9Y6hdlDbOta"
      },
      "source": [
        "###Confusion matrix"
      ]
    },
    {
      "cell_type": "code",
      "metadata": {
        "id": "bl9vwvslO_ab",
        "outputId": "babf8a06-0895-4a49-d608-925f8bfb9f45",
        "colab": {
          "base_uri": "https://localhost:8080/",
          "height": 609
        }
      },
      "source": [
        "label_list = sorted(list(set(y_pred)))\n",
        "cm = confusion_matrix(y_true, y_pred)\n",
        "\n",
        "plt.figure(figsize = (20, 10))\n",
        "sns.heatmap(cm, annot=True, fmt='d', xticklabels=set(Y_train), yticklabels=set(Y_train))"
      ],
      "execution_count": 98,
      "outputs": [
        {
          "output_type": "execute_result",
          "data": {
            "text/plain": [
              "<matplotlib.axes._subplots.AxesSubplot at 0x7ff1560175d0>"
            ]
          },
          "metadata": {
            "tags": []
          },
          "execution_count": 98
        },
        {
          "output_type": "display_data",
          "data": {
            "image/png": "[encoded data removed]",
            "text/plain": [
              "<Figure size 1440x720 with 2 Axes>"
            ]
          },
          "metadata": {
            "tags": [],
            "needs_background": "light"
          }
        }
      ]
    }
  ]
}