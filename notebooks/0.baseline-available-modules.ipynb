{
  "nbformat": 4,
  "nbformat_minor": 0,
  "metadata": {
    "language_info": {
      "codemirror_mode": {
        "name": "ipython",
        "version": 3
      },
      "file_extension": ".py",
      "mimetype": "text/x-python",
      "name": "python",
      "nbconvert_exporter": "python",
      "pygments_lexer": "ipython3",
      "version": "3.7.10"
    },
    "orig_nbformat": 2,
    "kernelspec": {
      "name": "python3710jvsc74a57bd07cec81db05bb032c480a4394d2b8453a6daf84bc5a6e44507f5f38b80d55eb6f",
      "display_name": "Python 3.7.10 64-bit ('language-detection': conda)"
    },
    "colab": {
      "name": "0.baseline-available-modules.ipynb",
      "provenance": [],
      "toc_visible": true
    },
    "widgets": {
      "application/vnd.jupyter.widget-state+json": {
        "7a9faa97757f4826b5980e3aa0fd50b4": {
          "model_module": "@jupyter-widgets/controls",
          "model_name": "HBoxModel",
          "state": {
            "_view_name": "HBoxView",
            "_dom_classes": [],
            "_model_name": "HBoxModel",
            "_view_module": "@jupyter-widgets/controls",
            "_model_module_version": "1.5.0",
            "_view_count": null,
            "_view_module_version": "1.5.0",
            "box_style": "",
            "layout": "IPY_MODEL_d7f31b057279409c9a4b834e6b2d0328",
            "_model_module": "@jupyter-widgets/controls",
            "children": [
              "IPY_MODEL_945797977f29428995cab828f383d450",
              "IPY_MODEL_64715444806549c7afd1ff0e9f6ffd18"
            ]
          }
        },
        "d7f31b057279409c9a4b834e6b2d0328": {
          "model_module": "@jupyter-widgets/base",
          "model_name": "LayoutModel",
          "state": {
            "_view_name": "LayoutView",
            "grid_template_rows": null,
            "right": null,
            "justify_content": null,
            "_view_module": "@jupyter-widgets/base",
            "overflow": null,
            "_model_module_version": "1.2.0",
            "_view_count": null,
            "flex_flow": null,
            "width": null,
            "min_width": null,
            "border": null,
            "align_items": null,
            "bottom": null,
            "_model_module": "@jupyter-widgets/base",
            "top": null,
            "grid_column": null,
            "overflow_y": null,
            "overflow_x": null,
            "grid_auto_flow": null,
            "grid_area": null,
            "grid_template_columns": null,
            "flex": null,
            "_model_name": "LayoutModel",
            "justify_items": null,
            "grid_row": null,
            "max_height": null,
            "align_content": null,
            "visibility": null,
            "align_self": null,
            "height": null,
            "min_height": null,
            "padding": null,
            "grid_auto_rows": null,
            "grid_gap": null,
            "max_width": null,
            "order": null,
            "_view_module_version": "1.2.0",
            "grid_template_areas": null,
            "object_position": null,
            "object_fit": null,
            "grid_auto_columns": null,
            "margin": null,
            "display": null,
            "left": null
          }
        },
        "945797977f29428995cab828f383d450": {
          "model_module": "@jupyter-widgets/controls",
          "model_name": "FloatProgressModel",
          "state": {
            "_view_name": "ProgressView",
            "style": "IPY_MODEL_8bf6557184a34832b6244d89ce09f301",
            "_dom_classes": [],
            "description": "100%",
            "_model_name": "FloatProgressModel",
            "bar_style": "success",
            "max": 9000,
            "_view_module": "@jupyter-widgets/controls",
            "_model_module_version": "1.5.0",
            "value": 9000,
            "_view_count": null,
            "_view_module_version": "1.5.0",
            "orientation": "horizontal",
            "min": 0,
            "description_tooltip": null,
            "_model_module": "@jupyter-widgets/controls",
            "layout": "IPY_MODEL_e4870fa2a4c94fca8fe4e3b2ffa1baa8"
          }
        },
        "64715444806549c7afd1ff0e9f6ffd18": {
          "model_module": "@jupyter-widgets/controls",
          "model_name": "HTMLModel",
          "state": {
            "_view_name": "HTMLView",
            "style": "IPY_MODEL_369bc04cc8054a7290703920741c95b1",
            "_dom_classes": [],
            "description": "",
            "_model_name": "HTMLModel",
            "placeholder": "​",
            "_view_module": "@jupyter-widgets/controls",
            "_model_module_version": "1.5.0",
            "value": " 9000/9000 [00:05&lt;00:00, 1766.45it/s]",
            "_view_count": null,
            "_view_module_version": "1.5.0",
            "description_tooltip": null,
            "_model_module": "@jupyter-widgets/controls",
            "layout": "IPY_MODEL_6b6f4392451b4275baf41cdc3ebd88af"
          }
        },
        "8bf6557184a34832b6244d89ce09f301": {
          "model_module": "@jupyter-widgets/controls",
          "model_name": "ProgressStyleModel",
          "state": {
            "_view_name": "StyleView",
            "_model_name": "ProgressStyleModel",
            "description_width": "initial",
            "_view_module": "@jupyter-widgets/base",
            "_model_module_version": "1.5.0",
            "_view_count": null,
            "_view_module_version": "1.2.0",
            "bar_color": null,
            "_model_module": "@jupyter-widgets/controls"
          }
        },
        "e4870fa2a4c94fca8fe4e3b2ffa1baa8": {
          "model_module": "@jupyter-widgets/base",
          "model_name": "LayoutModel",
          "state": {
            "_view_name": "LayoutView",
            "grid_template_rows": null,
            "right": null,
            "justify_content": null,
            "_view_module": "@jupyter-widgets/base",
            "overflow": null,
            "_model_module_version": "1.2.0",
            "_view_count": null,
            "flex_flow": null,
            "width": null,
            "min_width": null,
            "border": null,
            "align_items": null,
            "bottom": null,
            "_model_module": "@jupyter-widgets/base",
            "top": null,
            "grid_column": null,
            "overflow_y": null,
            "overflow_x": null,
            "grid_auto_flow": null,
            "grid_area": null,
            "grid_template_columns": null,
            "flex": null,
            "_model_name": "LayoutModel",
            "justify_items": null,
            "grid_row": null,
            "max_height": null,
            "align_content": null,
            "visibility": null,
            "align_self": null,
            "height": null,
            "min_height": null,
            "padding": null,
            "grid_auto_rows": null,
            "grid_gap": null,
            "max_width": null,
            "order": null,
            "_view_module_version": "1.2.0",
            "grid_template_areas": null,
            "object_position": null,
            "object_fit": null,
            "grid_auto_columns": null,
            "margin": null,
            "display": null,
            "left": null
          }
        },
        "369bc04cc8054a7290703920741c95b1": {
          "model_module": "@jupyter-widgets/controls",
          "model_name": "DescriptionStyleModel",
          "state": {
            "_view_name": "StyleView",
            "_model_name": "DescriptionStyleModel",
            "description_width": "",
            "_view_module": "@jupyter-widgets/base",
            "_model_module_version": "1.5.0",
            "_view_count": null,
            "_view_module_version": "1.2.0",
            "_model_module": "@jupyter-widgets/controls"
          }
        },
        "6b6f4392451b4275baf41cdc3ebd88af": {
          "model_module": "@jupyter-widgets/base",
          "model_name": "LayoutModel",
          "state": {
            "_view_name": "LayoutView",
            "grid_template_rows": null,
            "right": null,
            "justify_content": null,
            "_view_module": "@jupyter-widgets/base",
            "overflow": null,
            "_model_module_version": "1.2.0",
            "_view_count": null,
            "flex_flow": null,
            "width": null,
            "min_width": null,
            "border": null,
            "align_items": null,
            "bottom": null,
            "_model_module": "@jupyter-widgets/base",
            "top": null,
            "grid_column": null,
            "overflow_y": null,
            "overflow_x": null,
            "grid_auto_flow": null,
            "grid_area": null,
            "grid_template_columns": null,
            "flex": null,
            "_model_name": "LayoutModel",
            "justify_items": null,
            "grid_row": null,
            "max_height": null,
            "align_content": null,
            "visibility": null,
            "align_self": null,
            "height": null,
            "min_height": null,
            "padding": null,
            "grid_auto_rows": null,
            "grid_gap": null,
            "max_width": null,
            "order": null,
            "_view_module_version": "1.2.0",
            "grid_template_areas": null,
            "object_position": null,
            "object_fit": null,
            "grid_auto_columns": null,
            "margin": null,
            "display": null,
            "left": null
          }
        },
        "6edcd675a040431da8d1066135d09d5d": {
          "model_module": "@jupyter-widgets/controls",
          "model_name": "HBoxModel",
          "state": {
            "_view_name": "HBoxView",
            "_dom_classes": [],
            "_model_name": "HBoxModel",
            "_view_module": "@jupyter-widgets/controls",
            "_model_module_version": "1.5.0",
            "_view_count": null,
            "_view_module_version": "1.5.0",
            "box_style": "",
            "layout": "IPY_MODEL_95fddac91ca54cbe97c724b1200e0332",
            "_model_module": "@jupyter-widgets/controls",
            "children": [
              "IPY_MODEL_68ba7c9e7d7c49879da52eed0fd0d077",
              "IPY_MODEL_e3958a811476484b9ee761cc7bb9f7ee"
            ]
          }
        },
        "95fddac91ca54cbe97c724b1200e0332": {
          "model_module": "@jupyter-widgets/base",
          "model_name": "LayoutModel",
          "state": {
            "_view_name": "LayoutView",
            "grid_template_rows": null,
            "right": null,
            "justify_content": null,
            "_view_module": "@jupyter-widgets/base",
            "overflow": null,
            "_model_module_version": "1.2.0",
            "_view_count": null,
            "flex_flow": null,
            "width": null,
            "min_width": null,
            "border": null,
            "align_items": null,
            "bottom": null,
            "_model_module": "@jupyter-widgets/base",
            "top": null,
            "grid_column": null,
            "overflow_y": null,
            "overflow_x": null,
            "grid_auto_flow": null,
            "grid_area": null,
            "grid_template_columns": null,
            "flex": null,
            "_model_name": "LayoutModel",
            "justify_items": null,
            "grid_row": null,
            "max_height": null,
            "align_content": null,
            "visibility": null,
            "align_self": null,
            "height": null,
            "min_height": null,
            "padding": null,
            "grid_auto_rows": null,
            "grid_gap": null,
            "max_width": null,
            "order": null,
            "_view_module_version": "1.2.0",
            "grid_template_areas": null,
            "object_position": null,
            "object_fit": null,
            "grid_auto_columns": null,
            "margin": null,
            "display": null,
            "left": null
          }
        },
        "68ba7c9e7d7c49879da52eed0fd0d077": {
          "model_module": "@jupyter-widgets/controls",
          "model_name": "FloatProgressModel",
          "state": {
            "_view_name": "ProgressView",
            "style": "IPY_MODEL_be13c04369a04fc7aa66d3bae8a2e431",
            "_dom_classes": [],
            "description": "100%",
            "_model_name": "FloatProgressModel",
            "bar_style": "success",
            "max": 9000,
            "_view_module": "@jupyter-widgets/controls",
            "_model_module_version": "1.5.0",
            "value": 9000,
            "_view_count": null,
            "_view_module_version": "1.5.0",
            "orientation": "horizontal",
            "min": 0,
            "description_tooltip": null,
            "_model_module": "@jupyter-widgets/controls",
            "layout": "IPY_MODEL_678bc6f8a3f347628b3443b4449f26bf"
          }
        },
        "e3958a811476484b9ee761cc7bb9f7ee": {
          "model_module": "@jupyter-widgets/controls",
          "model_name": "HTMLModel",
          "state": {
            "_view_name": "HTMLView",
            "style": "IPY_MODEL_bf0e45a8a1814224b22c0daec8065944",
            "_dom_classes": [],
            "description": "",
            "_model_name": "HTMLModel",
            "placeholder": "​",
            "_view_module": "@jupyter-widgets/controls",
            "_model_module_version": "1.5.0",
            "value": " 9000/9000 [00:30&lt;00:00, 291.82it/s]",
            "_view_count": null,
            "_view_module_version": "1.5.0",
            "description_tooltip": null,
            "_model_module": "@jupyter-widgets/controls",
            "layout": "IPY_MODEL_5e7131e62f1d4399bf1259a28212b4e9"
          }
        },
        "be13c04369a04fc7aa66d3bae8a2e431": {
          "model_module": "@jupyter-widgets/controls",
          "model_name": "ProgressStyleModel",
          "state": {
            "_view_name": "StyleView",
            "_model_name": "ProgressStyleModel",
            "description_width": "initial",
            "_view_module": "@jupyter-widgets/base",
            "_model_module_version": "1.5.0",
            "_view_count": null,
            "_view_module_version": "1.2.0",
            "bar_color": null,
            "_model_module": "@jupyter-widgets/controls"
          }
        },
        "678bc6f8a3f347628b3443b4449f26bf": {
          "model_module": "@jupyter-widgets/base",
          "model_name": "LayoutModel",
          "state": {
            "_view_name": "LayoutView",
            "grid_template_rows": null,
            "right": null,
            "justify_content": null,
            "_view_module": "@jupyter-widgets/base",
            "overflow": null,
            "_model_module_version": "1.2.0",
            "_view_count": null,
            "flex_flow": null,
            "width": null,
            "min_width": null,
            "border": null,
            "align_items": null,
            "bottom": null,
            "_model_module": "@jupyter-widgets/base",
            "top": null,
            "grid_column": null,
            "overflow_y": null,
            "overflow_x": null,
            "grid_auto_flow": null,
            "grid_area": null,
            "grid_template_columns": null,
            "flex": null,
            "_model_name": "LayoutModel",
            "justify_items": null,
            "grid_row": null,
            "max_height": null,
            "align_content": null,
            "visibility": null,
            "align_self": null,
            "height": null,
            "min_height": null,
            "padding": null,
            "grid_auto_rows": null,
            "grid_gap": null,
            "max_width": null,
            "order": null,
            "_view_module_version": "1.2.0",
            "grid_template_areas": null,
            "object_position": null,
            "object_fit": null,
            "grid_auto_columns": null,
            "margin": null,
            "display": null,
            "left": null
          }
        },
        "bf0e45a8a1814224b22c0daec8065944": {
          "model_module": "@jupyter-widgets/controls",
          "model_name": "DescriptionStyleModel",
          "state": {
            "_view_name": "StyleView",
            "_model_name": "DescriptionStyleModel",
            "description_width": "",
            "_view_module": "@jupyter-widgets/base",
            "_model_module_version": "1.5.0",
            "_view_count": null,
            "_view_module_version": "1.2.0",
            "_model_module": "@jupyter-widgets/controls"
          }
        },
        "5e7131e62f1d4399bf1259a28212b4e9": {
          "model_module": "@jupyter-widgets/base",
          "model_name": "LayoutModel",
          "state": {
            "_view_name": "LayoutView",
            "grid_template_rows": null,
            "right": null,
            "justify_content": null,
            "_view_module": "@jupyter-widgets/base",
            "overflow": null,
            "_model_module_version": "1.2.0",
            "_view_count": null,
            "flex_flow": null,
            "width": null,
            "min_width": null,
            "border": null,
            "align_items": null,
            "bottom": null,
            "_model_module": "@jupyter-widgets/base",
            "top": null,
            "grid_column": null,
            "overflow_y": null,
            "overflow_x": null,
            "grid_auto_flow": null,
            "grid_area": null,
            "grid_template_columns": null,
            "flex": null,
            "_model_name": "LayoutModel",
            "justify_items": null,
            "grid_row": null,
            "max_height": null,
            "align_content": null,
            "visibility": null,
            "align_self": null,
            "height": null,
            "min_height": null,
            "padding": null,
            "grid_auto_rows": null,
            "grid_gap": null,
            "max_width": null,
            "order": null,
            "_view_module_version": "1.2.0",
            "grid_template_areas": null,
            "object_position": null,
            "object_fit": null,
            "grid_auto_columns": null,
            "margin": null,
            "display": null,
            "left": null
          }
        },
        "d71fa6648b1d46659231dd0d6e1dd60f": {
          "model_module": "@jupyter-widgets/controls",
          "model_name": "HBoxModel",
          "state": {
            "_view_name": "HBoxView",
            "_dom_classes": [],
            "_model_name": "HBoxModel",
            "_view_module": "@jupyter-widgets/controls",
            "_model_module_version": "1.5.0",
            "_view_count": null,
            "_view_module_version": "1.5.0",
            "box_style": "",
            "layout": "IPY_MODEL_12d7459a7d604e3794d50be6bb2bd9dc",
            "_model_module": "@jupyter-widgets/controls",
            "children": [
              "IPY_MODEL_bb65930fe8ba494da92ef1697ef5477a",
              "IPY_MODEL_12e0c604d02442c989ab76960f7cdd16"
            ]
          }
        },
        "12d7459a7d604e3794d50be6bb2bd9dc": {
          "model_module": "@jupyter-widgets/base",
          "model_name": "LayoutModel",
          "state": {
            "_view_name": "LayoutView",
            "grid_template_rows": null,
            "right": null,
            "justify_content": null,
            "_view_module": "@jupyter-widgets/base",
            "overflow": null,
            "_model_module_version": "1.2.0",
            "_view_count": null,
            "flex_flow": null,
            "width": null,
            "min_width": null,
            "border": null,
            "align_items": null,
            "bottom": null,
            "_model_module": "@jupyter-widgets/base",
            "top": null,
            "grid_column": null,
            "overflow_y": null,
            "overflow_x": null,
            "grid_auto_flow": null,
            "grid_area": null,
            "grid_template_columns": null,
            "flex": null,
            "_model_name": "LayoutModel",
            "justify_items": null,
            "grid_row": null,
            "max_height": null,
            "align_content": null,
            "visibility": null,
            "align_self": null,
            "height": null,
            "min_height": null,
            "padding": null,
            "grid_auto_rows": null,
            "grid_gap": null,
            "max_width": null,
            "order": null,
            "_view_module_version": "1.2.0",
            "grid_template_areas": null,
            "object_position": null,
            "object_fit": null,
            "grid_auto_columns": null,
            "margin": null,
            "display": null,
            "left": null
          }
        },
        "bb65930fe8ba494da92ef1697ef5477a": {
          "model_module": "@jupyter-widgets/controls",
          "model_name": "FloatProgressModel",
          "state": {
            "_view_name": "ProgressView",
            "style": "IPY_MODEL_392073ec31174c03b41c860fc5ba2b33",
            "_dom_classes": [],
            "description": "100%",
            "_model_name": "FloatProgressModel",
            "bar_style": "success",
            "max": 9000,
            "_view_module": "@jupyter-widgets/controls",
            "_model_module_version": "1.5.0",
            "value": 9000,
            "_view_count": null,
            "_view_module_version": "1.5.0",
            "orientation": "horizontal",
            "min": 0,
            "description_tooltip": null,
            "_model_module": "@jupyter-widgets/controls",
            "layout": "IPY_MODEL_2bb1fbf76ba24c428a4d4913c25213c7"
          }
        },
        "12e0c604d02442c989ab76960f7cdd16": {
          "model_module": "@jupyter-widgets/controls",
          "model_name": "HTMLModel",
          "state": {
            "_view_name": "HTMLView",
            "style": "IPY_MODEL_cf17a6e71a644ba6af17a0ca203526f8",
            "_dom_classes": [],
            "description": "",
            "_model_name": "HTMLModel",
            "placeholder": "​",
            "_view_module": "@jupyter-widgets/controls",
            "_model_module_version": "1.5.0",
            "value": " 9000/9000 [00:53&lt;00:00, 169.29it/s]",
            "_view_count": null,
            "_view_module_version": "1.5.0",
            "description_tooltip": null,
            "_model_module": "@jupyter-widgets/controls",
            "layout": "IPY_MODEL_eea63ddcd01b4952a12080876bdd78a8"
          }
        },
        "392073ec31174c03b41c860fc5ba2b33": {
          "model_module": "@jupyter-widgets/controls",
          "model_name": "ProgressStyleModel",
          "state": {
            "_view_name": "StyleView",
            "_model_name": "ProgressStyleModel",
            "description_width": "initial",
            "_view_module": "@jupyter-widgets/base",
            "_model_module_version": "1.5.0",
            "_view_count": null,
            "_view_module_version": "1.2.0",
            "bar_color": null,
            "_model_module": "@jupyter-widgets/controls"
          }
        },
        "2bb1fbf76ba24c428a4d4913c25213c7": {
          "model_module": "@jupyter-widgets/base",
          "model_name": "LayoutModel",
          "state": {
            "_view_name": "LayoutView",
            "grid_template_rows": null,
            "right": null,
            "justify_content": null,
            "_view_module": "@jupyter-widgets/base",
            "overflow": null,
            "_model_module_version": "1.2.0",
            "_view_count": null,
            "flex_flow": null,
            "width": null,
            "min_width": null,
            "border": null,
            "align_items": null,
            "bottom": null,
            "_model_module": "@jupyter-widgets/base",
            "top": null,
            "grid_column": null,
            "overflow_y": null,
            "overflow_x": null,
            "grid_auto_flow": null,
            "grid_area": null,
            "grid_template_columns": null,
            "flex": null,
            "_model_name": "LayoutModel",
            "justify_items": null,
            "grid_row": null,
            "max_height": null,
            "align_content": null,
            "visibility": null,
            "align_self": null,
            "height": null,
            "min_height": null,
            "padding": null,
            "grid_auto_rows": null,
            "grid_gap": null,
            "max_width": null,
            "order": null,
            "_view_module_version": "1.2.0",
            "grid_template_areas": null,
            "object_position": null,
            "object_fit": null,
            "grid_auto_columns": null,
            "margin": null,
            "display": null,
            "left": null
          }
        },
        "cf17a6e71a644ba6af17a0ca203526f8": {
          "model_module": "@jupyter-widgets/controls",
          "model_name": "DescriptionStyleModel",
          "state": {
            "_view_name": "StyleView",
            "_model_name": "DescriptionStyleModel",
            "description_width": "",
            "_view_module": "@jupyter-widgets/base",
            "_model_module_version": "1.5.0",
            "_view_count": null,
            "_view_module_version": "1.2.0",
            "_model_module": "@jupyter-widgets/controls"
          }
        },
        "eea63ddcd01b4952a12080876bdd78a8": {
          "model_module": "@jupyter-widgets/base",
          "model_name": "LayoutModel",
          "state": {
            "_view_name": "LayoutView",
            "grid_template_rows": null,
            "right": null,
            "justify_content": null,
            "_view_module": "@jupyter-widgets/base",
            "overflow": null,
            "_model_module_version": "1.2.0",
            "_view_count": null,
            "flex_flow": null,
            "width": null,
            "min_width": null,
            "border": null,
            "align_items": null,
            "bottom": null,
            "_model_module": "@jupyter-widgets/base",
            "top": null,
            "grid_column": null,
            "overflow_y": null,
            "overflow_x": null,
            "grid_auto_flow": null,
            "grid_area": null,
            "grid_template_columns": null,
            "flex": null,
            "_model_name": "LayoutModel",
            "justify_items": null,
            "grid_row": null,
            "max_height": null,
            "align_content": null,
            "visibility": null,
            "align_self": null,
            "height": null,
            "min_height": null,
            "padding": null,
            "grid_auto_rows": null,
            "grid_gap": null,
            "max_width": null,
            "order": null,
            "_view_module_version": "1.2.0",
            "grid_template_areas": null,
            "object_position": null,
            "object_fit": null,
            "grid_auto_columns": null,
            "margin": null,
            "display": null,
            "left": null
          }
        }
      }
    }
  },
  "cells": [
    {
      "cell_type": "code",
      "metadata": {
        "id": "QP2J7vNLN6fL"
      },
      "source": [
        "!git clone https://github.com/stefan-matcovici/language-detection.git\n",
        "!pip install -r language-detection/requirements.txt"
      ],
      "execution_count": null,
      "outputs": []
    },
    {
      "cell_type": "code",
      "metadata": {
        "id": "C_I01ilVaoAs"
      },
      "source": [
        "import sys\n",
        "sys.path.append('/content/language-detection/src')"
      ],
      "execution_count": 1,
      "outputs": []
    },
    {
      "cell_type": "code",
      "metadata": {
        "id": "oxCIKz6L4lto"
      },
      "source": [
        "%load_ext autoreload\n",
        "%autoreload 2"
      ],
      "execution_count": 2,
      "outputs": []
    },
    {
      "cell_type": "code",
      "metadata": {
        "id": "9MSYGG3bOtDf"
      },
      "source": [
        "import pycld2 as cld2\n",
        "import langid\n",
        "from iso639 import languages\n",
        "\n",
        "from sklearn.pipeline import Pipeline\n",
        "from sklearn.feature_extraction.text import CountVectorizer\n",
        "from sklearn.metrics import classification_report, confusion_matrix\n",
        "\n",
        "import seaborn as sns\n",
        "from matplotlib import pyplot as plt\n",
        "from tqdm.auto import tqdm\n",
        "from operator import itemgetter\n",
        "\n",
        "from data.willi2018 import Wili2018Dataset"
      ],
      "execution_count": 3,
      "outputs": []
    },
    {
      "cell_type": "markdown",
      "metadata": {
        "id": "CVhHybsu5qGk"
      },
      "source": [
        "###Select subset of languages from all 3 libraries"
      ]
    },
    {
      "cell_type": "code",
      "metadata": {
        "id": "byL-jtJAQIjO"
      },
      "source": [
        "cld2_languages = set(list(map(itemgetter(1), cld2.LANGUAGES)))\n",
        "langdetect_languages = [\"af\", \"ar\", \"bg\", \"bn\", \"ca\", \"cs\", \"cy\", \"da\", \"de\", \"el\", \"en\", \"es\", \"et\", \"fa\", \"fi\", \"fr\", \"gu\", \"he\",\n",
        "\"hi\", \"hr\", \"hu\", \"id\", \"it\", \"ja\", \"kn\", \"ko\", \"lt\", \"lv\", \"mk\", \"ml\", \"mr\", \"ne\", \"nl\", \"no\", \"pa\", \"pl\",\n",
        "\"pt\", \"ro\", \"ru\", \"sk\", \"sl\", \"so\", \"sq\", \"sv\", \"sw\", \"ta\", \"te\", \"th\", \"tl\", \"tr\", \"uk\", \"ur\", \"vi\", \"zh-cn\", \"zh-tw\"]\n",
        "langid_languages = [\"af\", \"am\", \"an\", \"ar\", \"as\", \"az\", \"be\", \"bg\", \"bn\", \"br\", \"bs\", \"ca\", \"cs\", \"cy\", \"da\", \"de\", \"dz\", \n",
        "                    \"el\", \"en\", \"eo\", \"es\", \"et\", \"eu\", \"fa\", \"fi\", \"fo\", \"fr\", \"ga\", \"gl\", \"gu\", \"he\", \"hi\", \"hr\", \"ht\", \"hu\", \"hy\", \n",
        "                    \"id\", \"is\", \"it\", \"ja\", \"jv\", \"ka\", \"kk\", \"km\", \"kn\", \"ko\", \"ku\", \"ky\", \"la\", \"lb\", \"lo\", \"lt\", \"lv\", \"mg\", \"mk\", \n",
        "                    \"ml\", \"mn\", \"mr\", \"ms\", \"mt\", \"nb\", \"ne\", \"nl\", \"nn\", \"no\", \"oc\", \"or\", \"pa\", \"pl\", \"ps\", \"pt\", \"qu\", \"ro\", \"ru\", \n",
        "                    \"rw\", \"se\", \"si\", \"sk\", \"sl\", \"sq\", \"sr\", \"sv\", \"sw\", \n",
        "                    \"ta\", \"te\", \"th\", \"tl\", \"tr\", \"ug\", \"uk\", \"ur\", \"vi\", \"vo\", \"wa\", \"xh\", \"zh\", \"zu\"]\n",
        "common_languages = set(cld2_languages) & set(langid_languages) & set(langdetect_languages)\n",
        "common_languages = [languages.get(alpha2=x).part3.lower() for x in common_languages]"
      ],
      "execution_count": 4,
      "outputs": []
    },
    {
      "cell_type": "code",
      "metadata": {
        "id": "9va0qbEtQkfO"
      },
      "source": [
        "target_languages = ['eng', 'rus', 'fra', 'spa', 'deu', 'ita', 'nld', 'jpn', 'ara', 'hin', 'urd', 'por', 'fas', 'kor', 'est', 'ron', 'swe', 'tha']"
      ],
      "execution_count": 5,
      "outputs": []
    },
    {
      "cell_type": "code",
      "metadata": {
        "id": "uQJiyz-uTXlU"
      },
      "source": [
        "assert len([lang for lang in target_languages if lang not in common_languages]) == 0"
      ],
      "execution_count": 6,
      "outputs": []
    },
    {
      "cell_type": "markdown",
      "metadata": {
        "id": "zk7m96HoXTGr"
      },
      "source": [
        "###Download and load dataset"
      ]
    },
    {
      "cell_type": "code",
      "metadata": {
        "id": "rDzNnvDo4pLb"
      },
      "source": [
        "!cd language-detection; chmod u+x scripts/download_wili2018.sh; ./scripts/download_wili2018.sh"
      ],
      "execution_count": 7,
      "outputs": []
    },
    {
      "cell_type": "code",
      "metadata": {
        "id": "aj9-LWx8XLNU"
      },
      "source": [
        "wili2018 = Wili2018Dataset(target_languages)\n",
        "X_train, Y_train, X_test, Y_test = wili2018.get_data()"
      ],
      "execution_count": 8,
      "outputs": []
    },
    {
      "cell_type": "markdown",
      "metadata": {
        "id": "h7IMsLI7RlxZ"
      },
      "source": [
        "###CLD2\n",
        "---\n",
        "**Compact Language Detector 2** (CLD2) uses a **Naïve Bayes** classifier with different token algorithms."
      ]
    },
    {
      "cell_type": "code",
      "metadata": {
        "colab": {
          "base_uri": "https://localhost:8080/",
          "height": 66,
          "referenced_widgets": [
            "7a9faa97757f4826b5980e3aa0fd50b4",
            "d7f31b057279409c9a4b834e6b2d0328",
            "945797977f29428995cab828f383d450",
            "64715444806549c7afd1ff0e9f6ffd18",
            "8bf6557184a34832b6244d89ce09f301",
            "e4870fa2a4c94fca8fe4e3b2ffa1baa8",
            "369bc04cc8054a7290703920741c95b1",
            "6b6f4392451b4275baf41cdc3ebd88af"
          ]
        },
        "id": "XvxXEYTNP_W5",
        "outputId": "8cd27e41-f838-40be-a965-cc2f446d0070"
      },
      "source": [
        "y_pred = []\n",
        "for txt in tqdm(X_test):\n",
        "    try:\n",
        "        normalized_text = txt.encode('utf8')\n",
        "        detected_language_alpha_2 = cld2.detect(normalized_text)[2][0][1]\n",
        "        detected_language_alpha_3 = languages.get(alpha2=detected_language_alpha_2).part3.lower()\n",
        "        if detected_language_alpha_3 not in target_languages:\n",
        "            y_pred.append('unk')\n",
        "        else:\n",
        "            y_pred.append(detected_language_alpha_3)\n",
        "    except:\n",
        "       y_pred.append('unk')"
      ],
      "execution_count": 9,
      "outputs": [
        {
          "output_type": "display_data",
          "data": {
            "application/vnd.jupyter.widget-view+json": {
              "model_id": "7a9faa97757f4826b5980e3aa0fd50b4",
              "version_minor": 0,
              "version_major": 2
            },
            "text/plain": [
              "HBox(children=(FloatProgress(value=0.0, max=9000.0), HTML(value='')))"
            ]
          },
          "metadata": {
            "tags": []
          }
        },
        {
          "output_type": "stream",
          "text": [
            "\n"
          ],
          "name": "stdout"
        }
      ]
    },
    {
      "cell_type": "markdown",
      "metadata": {
        "id": "C2iRc-me6lau"
      },
      "source": [
        "####Classification report"
      ]
    },
    {
      "cell_type": "code",
      "metadata": {
        "id": "gvMlCxKxz7TH",
        "colab": {
          "base_uri": "https://localhost:8080/"
        },
        "outputId": "086d488a-090d-4eeb-c218-5d179a718a6a"
      },
      "source": [
        "print(classification_report(Y_test, y_pred, zero_division=0, digits=4))"
      ],
      "execution_count": 10,
      "outputs": [
        {
          "output_type": "stream",
          "text": [
            "              precision    recall  f1-score   support\n",
            "\n",
            "         ara     1.0000    0.9940    0.9970       500\n",
            "         deu     0.9938    0.9640    0.9787       500\n",
            "         eng     0.7845    0.9900    0.8753       500\n",
            "         est     1.0000    0.9520    0.9754       500\n",
            "         fas     0.9980    0.9980    0.9980       500\n",
            "         fra     0.9659    0.9640    0.9650       500\n",
            "         hin     1.0000    0.9760    0.9879       500\n",
            "         ita     0.9935    0.9240    0.9575       500\n",
            "         jpn     1.0000    0.9940    0.9970       500\n",
            "         kor     1.0000    0.9900    0.9950       500\n",
            "         nld     1.0000    0.9600    0.9796       500\n",
            "         por     0.9956    0.9100    0.9509       500\n",
            "         ron     1.0000    0.9560    0.9775       500\n",
            "         rus     0.9978    0.8920    0.9419       500\n",
            "         spa     0.9957    0.9220    0.9574       500\n",
            "         swe     1.0000    0.9540    0.9765       500\n",
            "         tha     1.0000    0.9880    0.9940       500\n",
            "         unk     0.0000    0.0000    0.0000         0\n",
            "         urd     1.0000    0.8920    0.9429       500\n",
            "\n",
            "    accuracy                         0.9567      9000\n",
            "   macro avg     0.9329    0.9063    0.9183      9000\n",
            "weighted avg     0.9847    0.9567    0.9693      9000\n",
            "\n"
          ],
          "name": "stdout"
        }
      ]
    },
    {
      "cell_type": "markdown",
      "metadata": {
        "id": "YkqVY-0Y6qsY"
      },
      "source": [
        "####Confusion matrix"
      ]
    },
    {
      "cell_type": "code",
      "metadata": {
        "id": "QD2_uTOj1atp",
        "colab": {
          "base_uri": "https://localhost:8080/",
          "height": 609
        },
        "outputId": "3bf86733-089d-4520-f037-e5204b95de9a"
      },
      "source": [
        "label_list = sorted(list(set(y_pred)))\n",
        "cm = confusion_matrix(Y_test, y_pred, labels=label_list)\n",
        "\n",
        "plt.figure(figsize = (20, 10))\n",
        "sns.heatmap(cm, annot=True, fmt='d', xticklabels=label_list, yticklabels=label_list)"
      ],
      "execution_count": 11,
      "outputs": [
        {
          "output_type": "execute_result",
          "data": {
            "text/plain": [
              "<matplotlib.axes._subplots.AxesSubplot at 0x7f8669df8610>"
            ]
          },
          "metadata": {
            "tags": []
          },
          "execution_count": 11
        },
        {
          "output_type": "display_data",
          "data": {
            "image/png": "[encoded data removed]",
            "text/plain": [
              "<Figure size 1440x720 with 2 Axes>"
            ]
          },
          "metadata": {
            "tags": [],
            "needs_background": "light"
          }
        }
      ]
    },
    {
      "cell_type": "markdown",
      "metadata": {
        "id": "tjosnlxrTjZ6"
      },
      "source": [
        "###langid\n",
        "---\n",
        "**Langid** uses **LD feature selection** and a **Naïve Bayes** classifier."
      ]
    },
    {
      "cell_type": "code",
      "metadata": {
        "colab": {
          "base_uri": "https://localhost:8080/",
          "height": 66,
          "referenced_widgets": [
            "6edcd675a040431da8d1066135d09d5d",
            "95fddac91ca54cbe97c724b1200e0332",
            "68ba7c9e7d7c49879da52eed0fd0d077",
            "e3958a811476484b9ee761cc7bb9f7ee",
            "be13c04369a04fc7aa66d3bae8a2e431",
            "678bc6f8a3f347628b3443b4449f26bf",
            "bf0e45a8a1814224b22c0daec8065944",
            "5e7131e62f1d4399bf1259a28212b4e9"
          ]
        },
        "id": "EuZ7kv6yQ2Kk",
        "outputId": "875aeea3-7ad8-44b0-88ca-1682c2b42bd6"
      },
      "source": [
        "y_pred = []\n",
        "for txt in tqdm(X_test):\n",
        "    detected_language_alpha_2 = langid.classify(txt)\n",
        "    detected_language_alpha_3 = languages.get(alpha2=detected_language_alpha_2[0]).part3.lower()\n",
        "\n",
        "    if detected_language_alpha_3 not in target_languages:\n",
        "        y_pred.append('unk')\n",
        "    else:\n",
        "        y_pred.append(detected_language_alpha_3)"
      ],
      "execution_count": 12,
      "outputs": [
        {
          "output_type": "display_data",
          "data": {
            "application/vnd.jupyter.widget-view+json": {
              "model_id": "6edcd675a040431da8d1066135d09d5d",
              "version_minor": 0,
              "version_major": 2
            },
            "text/plain": [
              "HBox(children=(FloatProgress(value=0.0, max=9000.0), HTML(value='')))"
            ]
          },
          "metadata": {
            "tags": []
          }
        },
        {
          "output_type": "stream",
          "text": [
            "\n"
          ],
          "name": "stdout"
        }
      ]
    },
    {
      "cell_type": "markdown",
      "metadata": {
        "id": "dug1qU-86zy2"
      },
      "source": [
        "####Classification report"
      ]
    },
    {
      "cell_type": "code",
      "metadata": {
        "colab": {
          "base_uri": "https://localhost:8080/"
        },
        "id": "3TWrujV0Q5nB",
        "outputId": "93e1e0d8-94e0-411b-f843-c62160594939"
      },
      "source": [
        "print(classification_report(Y_test, y_pred, zero_division=0, digits=4))"
      ],
      "execution_count": 13,
      "outputs": [
        {
          "output_type": "stream",
          "text": [
            "              precision    recall  f1-score   support\n",
            "\n",
            "         ara     0.9288    0.9920    0.9594       500\n",
            "         deu     0.9838    0.9700    0.9768       500\n",
            "         eng     0.8496    0.9940    0.9161       500\n",
            "         est     1.0000    0.9280    0.9627       500\n",
            "         fas     0.9901    0.9980    0.9940       500\n",
            "         fra     0.9688    0.9920    0.9802       500\n",
            "         hin     1.0000    0.9540    0.9765       500\n",
            "         ita     0.9917    0.9540    0.9725       500\n",
            "         jpn     1.0000    0.9940    0.9970       500\n",
            "         kor     1.0000    0.9900    0.9950       500\n",
            "         nld     1.0000    0.9780    0.9889       500\n",
            "         por     0.9978    0.9280    0.9617       500\n",
            "         ron     1.0000    0.9760    0.9879       500\n",
            "         rus     0.9862    0.9980    0.9920       500\n",
            "         spa     0.9980    0.9740    0.9858       500\n",
            "         swe     0.9980    0.9960    0.9970       500\n",
            "         tha     1.0000    0.9880    0.9940       500\n",
            "         unk     0.0000    0.0000    0.0000         0\n",
            "         urd     1.0000    0.9060    0.9507       500\n",
            "\n",
            "    accuracy                         0.9728      9000\n",
            "   macro avg     0.9312    0.9216    0.9257      9000\n",
            "weighted avg     0.9829    0.9728    0.9771      9000\n",
            "\n"
          ],
          "name": "stdout"
        }
      ]
    },
    {
      "cell_type": "markdown",
      "metadata": {
        "id": "qxMwSGFn64bd"
      },
      "source": [
        "####Confusion matrix"
      ]
    },
    {
      "cell_type": "code",
      "metadata": {
        "id": "fPF1hKo2vc9F",
        "colab": {
          "base_uri": "https://localhost:8080/",
          "height": 609
        },
        "outputId": "c40e2d08-b5fe-454d-efe9-dcc1e1f02778"
      },
      "source": [
        "label_list = sorted(list(set(y_pred)))\n",
        "cm = confusion_matrix(Y_test, y_pred, labels=label_list)\n",
        "\n",
        "plt.figure(figsize = (20, 10))\n",
        "sns.heatmap(cm, annot=True, fmt='d', xticklabels=label_list, yticklabels=label_list)"
      ],
      "execution_count": 14,
      "outputs": [
        {
          "output_type": "execute_result",
          "data": {
            "text/plain": [
              "<matplotlib.axes._subplots.AxesSubplot at 0x7f8664a8cd90>"
            ]
          },
          "metadata": {
            "tags": []
          },
          "execution_count": 14
        },
        {
          "output_type": "display_data",
          "data": {
            "image/png": "[encoded data removed]",
            "text/plain": [
              "<Figure size 1440x720 with 2 Axes>"
            ]
          },
          "metadata": {
            "tags": [],
            "needs_background": "light"
          }
        }
      ]
    },
    {
      "cell_type": "markdown",
      "metadata": {
        "id": "VYADmZtZUAaJ"
      },
      "source": [
        "###Langdetect\n",
        "---\n",
        "**Langdetect** uses character n-gram features, **Naïve Bayes** classifier, noise filter and character normalization"
      ]
    },
    {
      "cell_type": "code",
      "metadata": {
        "id": "tKQU7r8uSdjO"
      },
      "source": [
        "from langdetect import detect\n",
        "from langdetect import DetectorFactory\n",
        "DetectorFactory.seed = 0"
      ],
      "execution_count": 15,
      "outputs": []
    },
    {
      "cell_type": "code",
      "metadata": {
        "id": "1AElvoxG3ROV",
        "colab": {
          "base_uri": "https://localhost:8080/",
          "height": 66,
          "referenced_widgets": [
            "d71fa6648b1d46659231dd0d6e1dd60f",
            "12d7459a7d604e3794d50be6bb2bd9dc",
            "bb65930fe8ba494da92ef1697ef5477a",
            "12e0c604d02442c989ab76960f7cdd16",
            "392073ec31174c03b41c860fc5ba2b33",
            "2bb1fbf76ba24c428a4d4913c25213c7",
            "cf17a6e71a644ba6af17a0ca203526f8",
            "eea63ddcd01b4952a12080876bdd78a8"
          ]
        },
        "outputId": "d18262b7-badb-4f90-880b-9a0b74154611"
      },
      "source": [
        "y_pred = []\n",
        "for txt in tqdm(X_test):\n",
        "    try:\n",
        "        detected_language_alpha_2 = detect(txt)\n",
        "        detected_language_alpha_3 = languages.get(alpha2=detected_language_alpha_2).part3.lower()\n",
        "\n",
        "        if detected_language_alpha_3 not in target_languages:\n",
        "            y_pred.append('unk')\n",
        "        else:\n",
        "            y_pred.append(detected_language_alpha_3)\n",
        "    except:\n",
        "        y_pred.append('unk')"
      ],
      "execution_count": 16,
      "outputs": [
        {
          "output_type": "display_data",
          "data": {
            "application/vnd.jupyter.widget-view+json": {
              "model_id": "d71fa6648b1d46659231dd0d6e1dd60f",
              "version_minor": 0,
              "version_major": 2
            },
            "text/plain": [
              "HBox(children=(FloatProgress(value=0.0, max=9000.0), HTML(value='')))"
            ]
          },
          "metadata": {
            "tags": []
          }
        },
        {
          "output_type": "stream",
          "text": [
            "\n"
          ],
          "name": "stdout"
        }
      ]
    },
    {
      "cell_type": "markdown",
      "metadata": {
        "id": "CncSLkLx7Bcw"
      },
      "source": [
        "####Classification report"
      ]
    },
    {
      "cell_type": "code",
      "metadata": {
        "id": "dUxp4F-T3d9B",
        "colab": {
          "base_uri": "https://localhost:8080/"
        },
        "outputId": "a0f051d6-c0d4-4229-b0b6-2eb90d066e3a"
      },
      "source": [
        "print(classification_report(Y_test, y_pred, zero_division=0, digits=4))"
      ],
      "execution_count": 17,
      "outputs": [
        {
          "output_type": "stream",
          "text": [
            "              precision    recall  f1-score   support\n",
            "\n",
            "         ara     0.9171    0.9960    0.9549       500\n",
            "         deu     0.9839    0.9760    0.9799       500\n",
            "         eng     0.8218    0.9960    0.9005       500\n",
            "         est     0.9979    0.9600    0.9786       500\n",
            "         fas     1.0000    0.9980    0.9990       500\n",
            "         fra     0.9650    0.9940    0.9793       500\n",
            "         hin     1.0000    0.9760    0.9879       500\n",
            "         ita     0.9916    0.9480    0.9693       500\n",
            "         jpn     1.0000    0.9900    0.9950       500\n",
            "         kor     1.0000    0.9880    0.9940       500\n",
            "         nld     1.0000    0.9760    0.9879       500\n",
            "         por     0.9979    0.9320    0.9638       500\n",
            "         ron     1.0000    0.9860    0.9930       500\n",
            "         rus     0.9920    0.9960    0.9940       500\n",
            "         spa     0.9959    0.9720    0.9838       500\n",
            "         swe     1.0000    1.0000    1.0000       500\n",
            "         tha     1.0000    0.9880    0.9940       500\n",
            "         unk     0.0000    0.0000    0.0000         0\n",
            "         urd     1.0000    0.8920    0.9429       500\n",
            "\n",
            "    accuracy                         0.9758      9000\n",
            "   macro avg     0.9296    0.9244    0.9262      9000\n",
            "weighted avg     0.9813    0.9758    0.9777      9000\n",
            "\n"
          ],
          "name": "stdout"
        }
      ]
    },
    {
      "cell_type": "markdown",
      "metadata": {
        "id": "_G8SXC-S7FxA"
      },
      "source": [
        "####Confusion matrix"
      ]
    },
    {
      "cell_type": "code",
      "metadata": {
        "id": "BwSkeLUm38lE",
        "colab": {
          "base_uri": "https://localhost:8080/",
          "height": 613
        },
        "outputId": "8652e2af-b7dc-481b-ebcb-12fe8aaef56f"
      },
      "source": [
        "label_list = sorted(list(set(y_pred)))\n",
        "cm = confusion_matrix(Y_test, y_pred, labels=label_list)\n",
        "\n",
        "plt.figure(figsize = (20, 10))\n",
        "sns.heatmap(cm, annot=True, fmt='d', xticklabels=label_list, yticklabels=label_list)"
      ],
      "execution_count": 18,
      "outputs": [
        {
          "output_type": "execute_result",
          "data": {
            "text/plain": [
              "<matplotlib.axes._subplots.AxesSubplot at 0x7f8664956ed0>"
            ]
          },
          "metadata": {
            "tags": []
          },
          "execution_count": 18
        },
        {
          "output_type": "display_data",
          "data": {
            "image/png": "[encoded data removed]",
            "text/plain": [
              "<Figure size 1440x720 with 2 Axes>"
            ]
          },
          "metadata": {
            "tags": [],
            "needs_background": "light"
          }
        }
      ]
    },
    {
      "cell_type": "code",
      "metadata": {
        "id": "OuSNI0xx884P"
      },
      "source": [],
      "execution_count": null,
      "outputs": []
    }
  ]
}